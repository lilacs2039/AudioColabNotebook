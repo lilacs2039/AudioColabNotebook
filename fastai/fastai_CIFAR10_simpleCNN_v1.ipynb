{
  "nbformat": 4,
  "nbformat_minor": 0,
  "metadata": {
    "colab": {
      "name": "fastai_CIFAR10_simpleCNN.ipynb",
      "version": "0.3.2",
      "provenance": [],
      "toc_visible": true,
      "include_colab_link": true
    },
    "kernelspec": {
      "name": "python3",
      "display_name": "Python 3"
    },
    "accelerator": "GPU"
  },
  "cells": [
    {
      "cell_type": "markdown",
      "metadata": {
        "id": "view-in-github",
        "colab_type": "text"
      },
      "source": [
        "<a href=\"https://colab.research.google.com/github/lilacs2039/ColabNotebooks/blob/master/fastai/fastai_CIFAR10_simpleCNN_v1.ipynb\" target=\"_parent\"><img src=\"https://colab.research.google.com/assets/colab-badge.svg\" alt=\"Open In Colab\"/></a>"
      ]
    },
    {
      "cell_type": "markdown",
      "metadata": {
        "id": "lmeo_AZpj_FH",
        "colab_type": "text"
      },
      "source": [
        "# 準備"
      ]
    },
    {
      "cell_type": "code",
      "metadata": {
        "id": "bIcNt7_2j8WP",
        "colab_type": "code",
        "outputId": "7fa064d1-5d12-4d02-a9f3-036169fc8625",
        "colab": {
          "base_uri": "https://localhost:8080/",
          "height": 105
        }
      },
      "source": [
        "!curl https://course-v3.fast.ai/setup/colab | bash"
      ],
      "execution_count": 3,
      "outputs": [
        {
          "output_type": "stream",
          "text": [
            "  % Total    % Received % Xferd  Average Speed   Time    Time     Time  Current\n",
            "                                 Dload  Upload   Total   Spent    Left  Speed\n",
            "100   287  100   287    0     0    243      0  0:00:01  0:00:01 --:--:--   243\n",
            "bash: line 1: syntax error near unexpected token `newline'\n",
            "bash: line 1: `<!DOCTYPE HTML PUBLIC \"-//IETF//DTD HTML 2.0//EN\">'\n"
          ],
          "name": "stdout"
        }
      ]
    },
    {
      "cell_type": "code",
      "metadata": {
        "id": "C50ZikmSjyCn",
        "colab_type": "code",
        "colab": {}
      },
      "source": [
        "%reload_ext autoreload\n",
        "%autoreload 2\n",
        "%matplotlib inline"
      ],
      "execution_count": 0,
      "outputs": []
    },
    {
      "cell_type": "code",
      "metadata": {
        "id": "xJUMyHoUjyCu",
        "colab_type": "code",
        "colab": {}
      },
      "source": [
        "from fastai.vision import *\n",
        "from fastai.metrics import error_rate\n",
        "from torchsummary import summary\n"
      ],
      "execution_count": 0,
      "outputs": []
    },
    {
      "cell_type": "code",
      "metadata": {
        "id": "Mx1tC-GejyCy",
        "colab_type": "code",
        "colab": {}
      },
      "source": [
        "bs = 64\n",
        "sz = 32\n",
        "tfms = get_transforms(max_rotate=25)\n",
        "\n",
        "np.random.seed(2)"
      ],
      "execution_count": 0,
      "outputs": []
    },
    {
      "cell_type": "markdown",
      "metadata": {
        "id": "cpJtbGH_7m6h",
        "colab_type": "text"
      },
      "source": [
        "# ここから開始\n",
        "\n",
        "データセットは↓からCIFAR10を選択  \n",
        "\n",
        "https://course.fast.ai/datasets\n"
      ]
    },
    {
      "cell_type": "markdown",
      "metadata": {
        "id": "g4KexaZnjyDe",
        "colab_type": "text"
      },
      "source": [
        "# Training: SimpleCNN"
      ]
    },
    {
      "cell_type": "code",
      "metadata": {
        "id": "01W4Ex3-jyC_",
        "colab_type": "code",
        "outputId": "a4984a28-2f91-42ff-82c8-a04b8db260cb",
        "colab": {
          "base_uri": "https://localhost:8080/",
          "height": 34
        }
      },
      "source": [
        "path = untar_data(URLs.CIFAR); path"
      ],
      "execution_count": 7,
      "outputs": [
        {
          "output_type": "execute_result",
          "data": {
            "text/plain": [
              "PosixPath('/root/.fastai/data/cifar10')"
            ]
          },
          "metadata": {
            "tags": []
          },
          "execution_count": 7
        }
      ]
    },
    {
      "cell_type": "code",
      "metadata": {
        "id": "TFe9ogVbjyDD",
        "colab_type": "code",
        "outputId": "53075277-da28-4d5b-e0e6-df1fabf8e6a6",
        "colab": {
          "base_uri": "https://localhost:8080/",
          "height": 70
        }
      },
      "source": [
        "path.ls()"
      ],
      "execution_count": 8,
      "outputs": [
        {
          "output_type": "execute_result",
          "data": {
            "text/plain": [
              "[PosixPath('/root/.fastai/data/cifar10/test'),\n",
              " PosixPath('/root/.fastai/data/cifar10/labels.txt'),\n",
              " PosixPath('/root/.fastai/data/cifar10/train')]"
            ]
          },
          "metadata": {
            "tags": []
          },
          "execution_count": 8
        }
      ]
    },
    {
      "cell_type": "code",
      "metadata": {
        "colab_type": "code",
        "id": "wQVvSOj4CRvE",
        "colab": {}
      },
      "source": [
        "path_train = path/'train'\n",
        "path_test = path/'test'"
      ],
      "execution_count": 0,
      "outputs": []
    },
    {
      "cell_type": "code",
      "metadata": {
        "id": "NDFCnjCpujsx",
        "colab_type": "code",
        "outputId": "4611d0ec-6240-4310-c567-dd96112dd51a",
        "colab": {
          "base_uri": "https://localhost:8080/",
          "height": 87
        }
      },
      "source": [
        "path_train.ls()[0:4]"
      ],
      "execution_count": 10,
      "outputs": [
        {
          "output_type": "execute_result",
          "data": {
            "text/plain": [
              "[PosixPath('/root/.fastai/data/cifar10/train/automobile'),\n",
              " PosixPath('/root/.fastai/data/cifar10/train/ship'),\n",
              " PosixPath('/root/.fastai/data/cifar10/train/deer'),\n",
              " PosixPath('/root/.fastai/data/cifar10/train/dog')]"
            ]
          },
          "metadata": {
            "tags": []
          },
          "execution_count": 10
        }
      ]
    },
    {
      "cell_type": "code",
      "metadata": {
        "id": "23SbHPaqWHmP",
        "colab_type": "code",
        "outputId": "e4ae4503-0d24-4ad4-ae30-0faefbd27352",
        "colab": {
          "base_uri": "https://localhost:8080/",
          "height": 87
        }
      },
      "source": [
        "path_test.ls()[0:4]"
      ],
      "execution_count": 11,
      "outputs": [
        {
          "output_type": "execute_result",
          "data": {
            "text/plain": [
              "[PosixPath('/root/.fastai/data/cifar10/test/automobile'),\n",
              " PosixPath('/root/.fastai/data/cifar10/test/ship'),\n",
              " PosixPath('/root/.fastai/data/cifar10/test/deer'),\n",
              " PosixPath('/root/.fastai/data/cifar10/test/dog')]"
            ]
          },
          "metadata": {
            "tags": []
          },
          "execution_count": 11
        }
      ]
    },
    {
      "cell_type": "code",
      "metadata": {
        "id": "OT2ksr7xjyDQ",
        "colab_type": "code",
        "outputId": "7ec49a0d-05a4-4242-8d13-0a6ab8d22091",
        "colab": {
          "base_uri": "https://localhost:8080/",
          "height": 87
        }
      },
      "source": [
        "(path_train/'automobile').ls()[0:4]"
      ],
      "execution_count": 12,
      "outputs": [
        {
          "output_type": "execute_result",
          "data": {
            "text/plain": [
              "[PosixPath('/root/.fastai/data/cifar10/train/automobile/9189_automobile.png'),\n",
              " PosixPath('/root/.fastai/data/cifar10/train/automobile/15855_automobile.png'),\n",
              " PosixPath('/root/.fastai/data/cifar10/train/automobile/22658_automobile.png'),\n",
              " PosixPath('/root/.fastai/data/cifar10/train/automobile/34723_automobile.png')]"
            ]
          },
          "metadata": {
            "tags": []
          },
          "execution_count": 12
        }
      ]
    },
    {
      "cell_type": "code",
      "metadata": {
        "id": "CLbqk1srWTV7",
        "colab_type": "code",
        "outputId": "451dc5a9-912b-4979-c819-3077b52945b1",
        "colab": {
          "base_uri": "https://localhost:8080/",
          "height": 87
        }
      },
      "source": [
        "(path_test/'automobile').ls()[0:4]"
      ],
      "execution_count": 13,
      "outputs": [
        {
          "output_type": "execute_result",
          "data": {
            "text/plain": [
              "[PosixPath('/root/.fastai/data/cifar10/test/automobile/5378_automobile.png'),\n",
              " PosixPath('/root/.fastai/data/cifar10/test/automobile/3645_automobile.png'),\n",
              " PosixPath('/root/.fastai/data/cifar10/test/automobile/6580_automobile.png'),\n",
              " PosixPath('/root/.fastai/data/cifar10/test/automobile/7005_automobile.png')]"
            ]
          },
          "metadata": {
            "tags": []
          },
          "execution_count": 13
        }
      ]
    },
    {
      "cell_type": "code",
      "metadata": {
        "id": "5CNUlJ_AYliI",
        "colab_type": "code",
        "outputId": "0252cc4c-18cf-40d3-dd0b-da1ed411b4b5",
        "colab": {
          "base_uri": "https://localhost:8080/",
          "height": 194
        }
      },
      "source": [
        "!head '/root/.fastai/data/cifar10/labels.txt'"
      ],
      "execution_count": 14,
      "outputs": [
        {
          "output_type": "stream",
          "text": [
            "airplane\n",
            "automobile\n",
            "bird\n",
            "cat\n",
            "deer\n",
            "dog\n",
            "frog\n",
            "horse\n",
            "ship\n",
            "truck\n"
          ],
          "name": "stdout"
        }
      ]
    },
    {
      "cell_type": "markdown",
      "metadata": {
        "id": "u2QX7vsHeYia",
        "colab_type": "text"
      },
      "source": [
        "## DataBunch　作成\n",
        "ファイル構成が以下のようになっていることが分かったので、DataBunchを作成する。\n",
        "labels.txtは単なるラベルの列挙なので使用しない。\n",
        "\n",
        "\n",
        "```\n",
        "cifar10/\n",
        "　├ train/\n",
        "　│  ├ automobile/    <- クラス名\n",
        "    │  │  ├ 9189_automobile.png\n",
        "    │  │  ├ 15855_automobile.png\n",
        "    │  │\n",
        "    │ \n",
        "　└ test/\n",
        "　        ├ automobile/    <- クラス名\n",
        "            │  ├ 5378_automobile.png\n",
        "            │  ├ 3645_automobile.png\n",
        "            │\n",
        " \n",
        " ```\n",
        " "
      ]
    },
    {
      "cell_type": "code",
      "metadata": {
        "id": "gHW8ePhljyDS",
        "colab_type": "code",
        "colab": {}
      },
      "source": [
        "data = (ImageList.from_folder(path) #Where to find the data? -> in path and its subfolders\n",
        "        .split_by_folder(valid=\"test\")              #How to split in train/valid? -> use the folders\n",
        "        .label_from_folder()            #How to label? -> depending on the folder of the filenames\n",
        "        .add_test_folder()              #Optionally add a test set (here default name is test)\n",
        "        .transform(tfms, size=sz)       #Data augmentation? -> use tfms with a size of 64\n",
        "        .databunch(bs=bs))                   #Finally? -> use the defaults for conversion to ImageDataBunch\n",
        "# data = ImageDataBunch.from_folder(path)\n"
      ],
      "execution_count": 0,
      "outputs": []
    },
    {
      "cell_type": "code",
      "metadata": {
        "id": "uJ4CjlbZl45F",
        "colab_type": "code",
        "colab": {
          "base_uri": "https://localhost:8080/",
          "height": 407
        },
        "outputId": "def186a6-1f6c-43e9-9a85-3abf87cde6ec"
      },
      "source": [
        "data"
      ],
      "execution_count": 30,
      "outputs": [
        {
          "output_type": "execute_result",
          "data": {
            "text/plain": [
              "ImageDataBunch;\n",
              "\n",
              "Train: LabelList (50000 items)\n",
              "x: ImageList\n",
              "Image (3, 32, 32),Image (3, 32, 32),Image (3, 32, 32),Image (3, 32, 32),Image (3, 32, 32)\n",
              "y: CategoryList\n",
              "automobile,automobile,automobile,automobile,automobile\n",
              "Path: /root/.fastai/data/cifar10;\n",
              "\n",
              "Valid: LabelList (10000 items)\n",
              "x: ImageList\n",
              "Image (3, 32, 32),Image (3, 32, 32),Image (3, 32, 32),Image (3, 32, 32),Image (3, 32, 32)\n",
              "y: CategoryList\n",
              "automobile,automobile,automobile,automobile,automobile\n",
              "Path: /root/.fastai/data/cifar10;\n",
              "\n",
              "Test: LabelList (10000 items)\n",
              "x: ImageList\n",
              "Image (3, 32, 32),Image (3, 32, 32),Image (3, 32, 32),Image (3, 32, 32),Image (3, 32, 32)\n",
              "y: EmptyLabelList\n",
              ",,,,\n",
              "Path: /root/.fastai/data/cifar10"
            ]
          },
          "metadata": {
            "tags": []
          },
          "execution_count": 30
        }
      ]
    },
    {
      "cell_type": "code",
      "metadata": {
        "id": "THzk1v7LjyDV",
        "colab_type": "code",
        "colab": {
          "base_uri": "https://localhost:8080/",
          "height": 441
        },
        "outputId": "127d8728-df2b-4dbf-ec26-1c455b008933"
      },
      "source": [
        "data.show_batch(rows=3, figsize=(7,6))"
      ],
      "execution_count": 22,
      "outputs": [
        {
          "output_type": "display_data",
          "data": {
            "image/png": "[encoded data removed]",
            "text/plain": [
              "<Figure size 504x432 with 9 Axes>"
            ]
          },
          "metadata": {
            "tags": []
          }
        }
      ]
    },
    {
      "cell_type": "code",
      "metadata": {
        "id": "ytSYnsaxjyDZ",
        "colab_type": "code",
        "colab": {
          "base_uri": "https://localhost:8080/",
          "height": 52
        },
        "outputId": "39541aec-b818-40a0-baee-306fdc12180d"
      },
      "source": [
        "print(data.classes)\n",
        "len(data.classes),data.c"
      ],
      "execution_count": 23,
      "outputs": [
        {
          "output_type": "stream",
          "text": [
            "['airplane', 'automobile', 'bird', 'cat', 'deer', 'dog', 'frog', 'horse', 'ship', 'truck']\n"
          ],
          "name": "stdout"
        },
        {
          "output_type": "execute_result",
          "data": {
            "text/plain": [
              "(10, 10)"
            ]
          },
          "metadata": {
            "tags": []
          },
          "execution_count": 23
        }
      ]
    },
    {
      "cell_type": "code",
      "metadata": {
        "id": "jycbmOUJjyDh",
        "colab_type": "code",
        "colab": {}
      },
      "source": [
        "# 参考　https://github.com/arunkashyap294/fastai/blob/7b1a1684d4870761f97906f027b00a7dc54121a0/docs_src/callbacks.mixup.ipynb\n",
        "model = simple_cnn((3,16,16,10))\n",
        "learn = Learner(data, model, metrics=[accuracy])"
      ],
      "execution_count": 0,
      "outputs": []
    },
    {
      "cell_type": "code",
      "metadata": {
        "id": "Gsx83AFEjyDk",
        "colab_type": "code",
        "colab": {
          "base_uri": "https://localhost:8080/",
          "height": 336
        },
        "outputId": "d972d587-a83a-4f17-cbef-7a647222f710"
      },
      "source": [
        "learn.model"
      ],
      "execution_count": 27,
      "outputs": [
        {
          "output_type": "execute_result",
          "data": {
            "text/plain": [
              "Sequential(\n",
              "  (0): Sequential(\n",
              "    (0): Conv2d(3, 16, kernel_size=(3, 3), stride=(2, 2), padding=(1, 1))\n",
              "    (1): ReLU(inplace)\n",
              "  )\n",
              "  (1): Sequential(\n",
              "    (0): Conv2d(16, 16, kernel_size=(3, 3), stride=(2, 2), padding=(1, 1))\n",
              "    (1): ReLU(inplace)\n",
              "  )\n",
              "  (2): Sequential(\n",
              "    (0): Conv2d(16, 10, kernel_size=(3, 3), stride=(2, 2), padding=(1, 1))\n",
              "    (1): ReLU(inplace)\n",
              "  )\n",
              "  (3): Sequential(\n",
              "    (0): AdaptiveAvgPool2d(output_size=1)\n",
              "    (1): Flatten()\n",
              "  )\n",
              ")"
            ]
          },
          "metadata": {
            "tags": []
          },
          "execution_count": 27
        }
      ]
    },
    {
      "cell_type": "code",
      "metadata": {
        "id": "bchUopwDrz9K",
        "colab_type": "code",
        "colab": {
          "base_uri": "https://localhost:8080/",
          "height": 390
        },
        "outputId": "8de8abcf-a94c-4d09-cdf9-c464a8314818"
      },
      "source": [
        "# kerasのようなモデルのサマリー　by torchsummary \n",
        "summary(model,(3,32,32))"
      ],
      "execution_count": 37,
      "outputs": [
        {
          "output_type": "stream",
          "text": [
            "----------------------------------------------------------------\n",
            "        Layer (type)               Output Shape         Param #\n",
            "================================================================\n",
            "            Conv2d-1           [-1, 16, 16, 16]             448\n",
            "              ReLU-2           [-1, 16, 16, 16]               0\n",
            "            Conv2d-3             [-1, 16, 8, 8]           2,320\n",
            "              ReLU-4             [-1, 16, 8, 8]               0\n",
            "            Conv2d-5             [-1, 10, 4, 4]           1,450\n",
            "              ReLU-6             [-1, 10, 4, 4]               0\n",
            " AdaptiveAvgPool2d-7             [-1, 10, 1, 1]               0\n",
            "           Flatten-8                   [-1, 10]               0\n",
            "================================================================\n",
            "Total params: 4,218\n",
            "Trainable params: 4,218\n",
            "Non-trainable params: 0\n",
            "----------------------------------------------------------------\n",
            "Input size (MB): 0.01\n",
            "Forward/backward pass size (MB): 0.08\n",
            "Params size (MB): 0.02\n",
            "Estimated Total Size (MB): 0.11\n",
            "----------------------------------------------------------------\n"
          ],
          "name": "stdout"
        }
      ]
    },
    {
      "cell_type": "code",
      "metadata": {
        "id": "pkme-Wh5rUxk",
        "colab_type": "code",
        "colab": {}
      },
      "source": [
        "learn.lr_find()\n",
        "learn.recorder.plot()"
      ],
      "execution_count": 0,
      "outputs": []
    },
    {
      "cell_type": "code",
      "metadata": {
        "id": "-bstSUhOjyDq",
        "colab_type": "code",
        "colab": {
          "base_uri": "https://localhost:8080/",
          "height": 167
        },
        "outputId": "710087c3-25dd-4847-c967-e97c92e5c056"
      },
      "source": [
        "learn.fit_one_cycle(4)"
      ],
      "execution_count": 32,
      "outputs": [
        {
          "output_type": "display_data",
          "data": {
            "text/html": [
              "<table border=\"1\" class=\"dataframe\">\n",
              "  <thead>\n",
              "    <tr style=\"text-align: left;\">\n",
              "      <th>epoch</th>\n",
              "      <th>train_loss</th>\n",
              "      <th>valid_loss</th>\n",
              "      <th>accuracy</th>\n",
              "      <th>time</th>\n",
              "    </tr>\n",
              "  </thead>\n",
              "  <tbody>\n",
              "    <tr>\n",
              "      <td>0</td>\n",
              "      <td>1.951029</td>\n",
              "      <td>1.896422</td>\n",
              "      <td>0.311600</td>\n",
              "      <td>00:58</td>\n",
              "    </tr>\n",
              "    <tr>\n",
              "      <td>1</td>\n",
              "      <td>1.762488</td>\n",
              "      <td>1.671042</td>\n",
              "      <td>0.397900</td>\n",
              "      <td>00:58</td>\n",
              "    </tr>\n",
              "    <tr>\n",
              "      <td>2</td>\n",
              "      <td>1.658369</td>\n",
              "      <td>1.587707</td>\n",
              "      <td>0.425000</td>\n",
              "      <td>00:58</td>\n",
              "    </tr>\n",
              "    <tr>\n",
              "      <td>3</td>\n",
              "      <td>1.630139</td>\n",
              "      <td>1.579989</td>\n",
              "      <td>0.426300</td>\n",
              "      <td>00:57</td>\n",
              "    </tr>\n",
              "  </tbody>\n",
              "</table>"
            ],
            "text/plain": [
              "<IPython.core.display.HTML object>"
            ]
          },
          "metadata": {
            "tags": []
          }
        }
      ]
    },
    {
      "cell_type": "code",
      "metadata": {
        "id": "9iBIB5RhrPPw",
        "colab_type": "code",
        "colab": {
          "base_uri": "https://localhost:8080/",
          "height": 282
        },
        "outputId": "15a6513a-ef61-4de9-dae7-6e22654298f2"
      },
      "source": [
        "learn.recorder.plot_losses()"
      ],
      "execution_count": 33,
      "outputs": [
        {
          "output_type": "display_data",
          "data": {
            "image/png": "[encoded data removed]",
            "text/plain": [
              "<Figure size 432x288 with 1 Axes>"
            ]
          },
          "metadata": {
            "tags": []
          }
        }
      ]
    },
    {
      "cell_type": "markdown",
      "metadata": {
        "id": "XH5pJNlmrrmv",
        "colab_type": "text"
      },
      "source": [
        "# Training : ResBlock\n",
        "参考　https://github.com/SESCDS/sescds/blob/7309b40cc4948d21a57e585d5e75fa1f26490956/Part%202/Lesson%206/Lesson6.ipynb"
      ]
    },
    {
      "cell_type": "code",
      "metadata": {
        "id": "C-Ivwu7KrPU8",
        "colab_type": "code",
        "colab": {}
      },
      "source": [
        "# model = simple_cnn((3,16,16,10))\n",
        "def conv2(ni,nf): return conv_layer(ni,nf,stride=2)\n",
        "model = nn.Sequential(\n",
        "    conv2(3, 8),\n",
        "    res_block(8),\n",
        "    conv2(8, 16),\n",
        "    res_block(16),\n",
        "    conv2(16, 32),\n",
        "    res_block(32),\n",
        "    conv2(32, 16),\n",
        "    res_block(16),\n",
        "    conv2(16, 10),\n",
        "    Flatten()\n",
        ")\n",
        "learn = Learner(data, model, metrics=[accuracy])"
      ],
      "execution_count": 0,
      "outputs": []
    },
    {
      "cell_type": "code",
      "metadata": {
        "id": "LJINThC4rPYD",
        "colab_type": "code",
        "colab": {
          "base_uri": "https://localhost:8080/",
          "height": 1101
        },
        "outputId": "82831a0e-0539-4d48-9e5b-f0a508087cae"
      },
      "source": [
        "summary(model,(3,32,32))"
      ],
      "execution_count": 41,
      "outputs": [
        {
          "output_type": "stream",
          "text": [
            "----------------------------------------------------------------\n",
            "        Layer (type)               Output Shape         Param #\n",
            "================================================================\n",
            "            Conv2d-1            [-1, 8, 16, 16]             216\n",
            "              ReLU-2            [-1, 8, 16, 16]               0\n",
            "       BatchNorm2d-3            [-1, 8, 16, 16]              16\n",
            "            Conv2d-4            [-1, 8, 16, 16]             576\n",
            "              ReLU-5            [-1, 8, 16, 16]               0\n",
            "       BatchNorm2d-6            [-1, 8, 16, 16]              16\n",
            "            Conv2d-7            [-1, 8, 16, 16]             576\n",
            "              ReLU-8            [-1, 8, 16, 16]               0\n",
            "       BatchNorm2d-9            [-1, 8, 16, 16]              16\n",
            "       MergeLayer-10            [-1, 8, 16, 16]               0\n",
            "     SequentialEx-11            [-1, 8, 16, 16]               0\n",
            "           Conv2d-12             [-1, 16, 8, 8]           1,152\n",
            "             ReLU-13             [-1, 16, 8, 8]               0\n",
            "      BatchNorm2d-14             [-1, 16, 8, 8]              32\n",
            "           Conv2d-15             [-1, 16, 8, 8]           2,304\n",
            "             ReLU-16             [-1, 16, 8, 8]               0\n",
            "      BatchNorm2d-17             [-1, 16, 8, 8]              32\n",
            "           Conv2d-18             [-1, 16, 8, 8]           2,304\n",
            "             ReLU-19             [-1, 16, 8, 8]               0\n",
            "      BatchNorm2d-20             [-1, 16, 8, 8]              32\n",
            "       MergeLayer-21             [-1, 16, 8, 8]               0\n",
            "     SequentialEx-22             [-1, 16, 8, 8]               0\n",
            "           Conv2d-23             [-1, 32, 4, 4]           4,608\n",
            "             ReLU-24             [-1, 32, 4, 4]               0\n",
            "      BatchNorm2d-25             [-1, 32, 4, 4]              64\n",
            "           Conv2d-26             [-1, 32, 4, 4]           9,216\n",
            "             ReLU-27             [-1, 32, 4, 4]               0\n",
            "      BatchNorm2d-28             [-1, 32, 4, 4]              64\n",
            "           Conv2d-29             [-1, 32, 4, 4]           9,216\n",
            "             ReLU-30             [-1, 32, 4, 4]               0\n",
            "      BatchNorm2d-31             [-1, 32, 4, 4]              64\n",
            "       MergeLayer-32             [-1, 32, 4, 4]               0\n",
            "     SequentialEx-33             [-1, 32, 4, 4]               0\n",
            "           Conv2d-34             [-1, 16, 2, 2]           4,608\n",
            "             ReLU-35             [-1, 16, 2, 2]               0\n",
            "      BatchNorm2d-36             [-1, 16, 2, 2]              32\n",
            "           Conv2d-37             [-1, 16, 2, 2]           2,304\n",
            "             ReLU-38             [-1, 16, 2, 2]               0\n",
            "      BatchNorm2d-39             [-1, 16, 2, 2]              32\n",
            "           Conv2d-40             [-1, 16, 2, 2]           2,304\n",
            "             ReLU-41             [-1, 16, 2, 2]               0\n",
            "      BatchNorm2d-42             [-1, 16, 2, 2]              32\n",
            "       MergeLayer-43             [-1, 16, 2, 2]               0\n",
            "     SequentialEx-44             [-1, 16, 2, 2]               0\n",
            "           Conv2d-45             [-1, 10, 1, 1]           1,440\n",
            "             ReLU-46             [-1, 10, 1, 1]               0\n",
            "      BatchNorm2d-47             [-1, 10, 1, 1]              20\n",
            "          Flatten-48                   [-1, 10]               0\n",
            "================================================================\n",
            "Total params: 41,276\n",
            "Trainable params: 41,276\n",
            "Non-trainable params: 0\n",
            "----------------------------------------------------------------\n",
            "Input size (MB): 0.01\n",
            "Forward/backward pass size (MB): 0.31\n",
            "Params size (MB): 0.16\n",
            "Estimated Total Size (MB): 0.48\n",
            "----------------------------------------------------------------\n"
          ],
          "name": "stdout"
        }
      ]
    },
    {
      "cell_type": "code",
      "metadata": {
        "colab_type": "code",
        "id": "JwYmCYKQwXzz",
        "colab": {
          "base_uri": "https://localhost:8080/",
          "height": 300
        },
        "outputId": "b8d80157-f972-48eb-8ce7-5f43d9ddbf1a"
      },
      "source": [
        "learn.lr_find()\n",
        "learn.recorder.plot()"
      ],
      "execution_count": 44,
      "outputs": [
        {
          "output_type": "display_data",
          "data": {
            "text/html": [
              ""
            ],
            "text/plain": [
              "<IPython.core.display.HTML object>"
            ]
          },
          "metadata": {
            "tags": []
          }
        },
        {
          "output_type": "stream",
          "text": [
            "LR Finder is complete, type {learner_name}.recorder.plot() to see the graph.\n"
          ],
          "name": "stdout"
        },
        {
          "output_type": "display_data",
          "data": {
            "image/png": "[encoded data removed]",
            "text/plain": [
              "<Figure size 432x288 with 1 Axes>"
            ]
          },
          "metadata": {
            "tags": []
          }
        }
      ]
    },
    {
      "cell_type": "code",
      "metadata": {
        "colab_type": "code",
        "outputId": "77cbb536-0348-4b0b-ddcb-995027d1dbcc",
        "id": "rMVdCOD0wXz4",
        "colab": {
          "base_uri": "https://localhost:8080/",
          "height": 167
        }
      },
      "source": [
        "learn.fit_one_cycle(4)"
      ],
      "execution_count": 45,
      "outputs": [
        {
          "output_type": "display_data",
          "data": {
            "text/html": [
              "<table border=\"1\" class=\"dataframe\">\n",
              "  <thead>\n",
              "    <tr style=\"text-align: left;\">\n",
              "      <th>epoch</th>\n",
              "      <th>train_loss</th>\n",
              "      <th>valid_loss</th>\n",
              "      <th>accuracy</th>\n",
              "      <th>time</th>\n",
              "    </tr>\n",
              "  </thead>\n",
              "  <tbody>\n",
              "    <tr>\n",
              "      <td>0</td>\n",
              "      <td>1.700452</td>\n",
              "      <td>1.622021</td>\n",
              "      <td>0.425200</td>\n",
              "      <td>01:07</td>\n",
              "    </tr>\n",
              "    <tr>\n",
              "      <td>1</td>\n",
              "      <td>1.452037</td>\n",
              "      <td>1.336483</td>\n",
              "      <td>0.520400</td>\n",
              "      <td>01:06</td>\n",
              "    </tr>\n",
              "    <tr>\n",
              "      <td>2</td>\n",
              "      <td>1.277777</td>\n",
              "      <td>1.185367</td>\n",
              "      <td>0.584300</td>\n",
              "      <td>01:07</td>\n",
              "    </tr>\n",
              "    <tr>\n",
              "      <td>3</td>\n",
              "      <td>1.241277</td>\n",
              "      <td>1.121613</td>\n",
              "      <td>0.607000</td>\n",
              "      <td>01:07</td>\n",
              "    </tr>\n",
              "  </tbody>\n",
              "</table>"
            ],
            "text/plain": [
              "<IPython.core.display.HTML object>"
            ]
          },
          "metadata": {
            "tags": []
          }
        }
      ]
    },
    {
      "cell_type": "code",
      "metadata": {
        "colab_type": "code",
        "outputId": "b05511b3-d3a6-4d56-ffb4-98b58bc789e7",
        "id": "cbXb1gaIwX0C",
        "colab": {
          "base_uri": "https://localhost:8080/",
          "height": 282
        }
      },
      "source": [
        "learn.recorder.plot_losses()"
      ],
      "execution_count": 46,
      "outputs": [
        {
          "output_type": "display_data",
          "data": {
            "image/png": "[encoded data removed]",
            "text/plain": [
              "<Figure size 432x288 with 1 Axes>"
            ]
          },
          "metadata": {
            "tags": []
          }
        }
      ]
    },
    {
      "cell_type": "code",
      "metadata": {
        "id": "fBa6GilLwbEW",
        "colab_type": "code",
        "colab": {
          "base_uri": "https://localhost:8080/",
          "height": 300
        },
        "outputId": "a3d9fd7d-e3a9-404b-8e33-84b2990bde8f"
      },
      "source": [
        "learn.lr_find()\n",
        "learn.recorder.plot()"
      ],
      "execution_count": 47,
      "outputs": [
        {
          "output_type": "display_data",
          "data": {
            "text/html": [
              ""
            ],
            "text/plain": [
              "<IPython.core.display.HTML object>"
            ]
          },
          "metadata": {
            "tags": []
          }
        },
        {
          "output_type": "stream",
          "text": [
            "LR Finder is complete, type {learner_name}.recorder.plot() to see the graph.\n"
          ],
          "name": "stdout"
        },
        {
          "output_type": "display_data",
          "data": {
            "image/png": "[encoded data removed]",
            "text/plain": [
              "<Figure size 432x288 with 1 Axes>"
            ]
          },
          "metadata": {
            "tags": []
          }
        }
      ]
    },
    {
      "cell_type": "code",
      "metadata": {
        "id": "Pu0GRfBY4BXr",
        "colab_type": "code",
        "colab": {
          "base_uri": "https://localhost:8080/",
          "height": 1547
        },
        "outputId": "4f174a1b-8dc5-4816-ef97-a1fb94606012"
      },
      "source": [
        "learn.fit_one_cycle(50,1e-2)"
      ],
      "execution_count": 49,
      "outputs": [
        {
          "output_type": "display_data",
          "data": {
            "text/html": [
              "<table border=\"1\" class=\"dataframe\">\n",
              "  <thead>\n",
              "    <tr style=\"text-align: left;\">\n",
              "      <th>epoch</th>\n",
              "      <th>train_loss</th>\n",
              "      <th>valid_loss</th>\n",
              "      <th>accuracy</th>\n",
              "      <th>time</th>\n",
              "    </tr>\n",
              "  </thead>\n",
              "  <tbody>\n",
              "    <tr>\n",
              "      <td>0</td>\n",
              "      <td>1.185223</td>\n",
              "      <td>1.095098</td>\n",
              "      <td>0.618700</td>\n",
              "      <td>01:12</td>\n",
              "    </tr>\n",
              "    <tr>\n",
              "      <td>1</td>\n",
              "      <td>1.174050</td>\n",
              "      <td>1.081264</td>\n",
              "      <td>0.620500</td>\n",
              "      <td>01:12</td>\n",
              "    </tr>\n",
              "    <tr>\n",
              "      <td>2</td>\n",
              "      <td>1.196716</td>\n",
              "      <td>1.080886</td>\n",
              "      <td>0.617600</td>\n",
              "      <td>01:12</td>\n",
              "    </tr>\n",
              "    <tr>\n",
              "      <td>3</td>\n",
              "      <td>1.190679</td>\n",
              "      <td>1.080400</td>\n",
              "      <td>0.619400</td>\n",
              "      <td>01:12</td>\n",
              "    </tr>\n",
              "    <tr>\n",
              "      <td>4</td>\n",
              "      <td>1.162768</td>\n",
              "      <td>1.060626</td>\n",
              "      <td>0.626500</td>\n",
              "      <td>01:10</td>\n",
              "    </tr>\n",
              "    <tr>\n",
              "      <td>5</td>\n",
              "      <td>1.174680</td>\n",
              "      <td>1.141227</td>\n",
              "      <td>0.601600</td>\n",
              "      <td>01:11</td>\n",
              "    </tr>\n",
              "    <tr>\n",
              "      <td>6</td>\n",
              "      <td>1.159352</td>\n",
              "      <td>1.100258</td>\n",
              "      <td>0.611800</td>\n",
              "      <td>01:11</td>\n",
              "    </tr>\n",
              "    <tr>\n",
              "      <td>7</td>\n",
              "      <td>1.095946</td>\n",
              "      <td>1.198122</td>\n",
              "      <td>0.592700</td>\n",
              "      <td>01:10</td>\n",
              "    </tr>\n",
              "    <tr>\n",
              "      <td>8</td>\n",
              "      <td>1.122290</td>\n",
              "      <td>1.049741</td>\n",
              "      <td>0.634100</td>\n",
              "      <td>01:10</td>\n",
              "    </tr>\n",
              "    <tr>\n",
              "      <td>9</td>\n",
              "      <td>1.083378</td>\n",
              "      <td>1.058962</td>\n",
              "      <td>0.621100</td>\n",
              "      <td>01:11</td>\n",
              "    </tr>\n",
              "    <tr>\n",
              "      <td>10</td>\n",
              "      <td>1.132355</td>\n",
              "      <td>0.995660</td>\n",
              "      <td>0.651900</td>\n",
              "      <td>01:14</td>\n",
              "    </tr>\n",
              "    <tr>\n",
              "      <td>11</td>\n",
              "      <td>1.101620</td>\n",
              "      <td>1.049371</td>\n",
              "      <td>0.626900</td>\n",
              "      <td>01:12</td>\n",
              "    </tr>\n",
              "    <tr>\n",
              "      <td>12</td>\n",
              "      <td>1.081672</td>\n",
              "      <td>1.013446</td>\n",
              "      <td>0.644900</td>\n",
              "      <td>01:13</td>\n",
              "    </tr>\n",
              "    <tr>\n",
              "      <td>13</td>\n",
              "      <td>1.044481</td>\n",
              "      <td>0.977124</td>\n",
              "      <td>0.657700</td>\n",
              "      <td>01:11</td>\n",
              "    </tr>\n",
              "    <tr>\n",
              "      <td>14</td>\n",
              "      <td>1.048865</td>\n",
              "      <td>0.985444</td>\n",
              "      <td>0.648900</td>\n",
              "      <td>01:12</td>\n",
              "    </tr>\n",
              "    <tr>\n",
              "      <td>15</td>\n",
              "      <td>1.008986</td>\n",
              "      <td>0.933039</td>\n",
              "      <td>0.674100</td>\n",
              "      <td>01:11</td>\n",
              "    </tr>\n",
              "    <tr>\n",
              "      <td>16</td>\n",
              "      <td>1.009958</td>\n",
              "      <td>1.089848</td>\n",
              "      <td>0.628100</td>\n",
              "      <td>01:11</td>\n",
              "    </tr>\n",
              "    <tr>\n",
              "      <td>17</td>\n",
              "      <td>0.997905</td>\n",
              "      <td>0.953692</td>\n",
              "      <td>0.669700</td>\n",
              "      <td>01:11</td>\n",
              "    </tr>\n",
              "    <tr>\n",
              "      <td>18</td>\n",
              "      <td>0.958241</td>\n",
              "      <td>0.953564</td>\n",
              "      <td>0.661300</td>\n",
              "      <td>01:12</td>\n",
              "    </tr>\n",
              "    <tr>\n",
              "      <td>19</td>\n",
              "      <td>0.934547</td>\n",
              "      <td>0.862604</td>\n",
              "      <td>0.696400</td>\n",
              "      <td>01:10</td>\n",
              "    </tr>\n",
              "    <tr>\n",
              "      <td>20</td>\n",
              "      <td>0.925572</td>\n",
              "      <td>0.903484</td>\n",
              "      <td>0.688500</td>\n",
              "      <td>01:09</td>\n",
              "    </tr>\n",
              "    <tr>\n",
              "      <td>21</td>\n",
              "      <td>0.938755</td>\n",
              "      <td>0.898274</td>\n",
              "      <td>0.691500</td>\n",
              "      <td>01:09</td>\n",
              "    </tr>\n",
              "    <tr>\n",
              "      <td>22</td>\n",
              "      <td>0.935125</td>\n",
              "      <td>0.849288</td>\n",
              "      <td>0.700200</td>\n",
              "      <td>01:10</td>\n",
              "    </tr>\n",
              "    <tr>\n",
              "      <td>23</td>\n",
              "      <td>0.910851</td>\n",
              "      <td>0.803983</td>\n",
              "      <td>0.716000</td>\n",
              "      <td>01:10</td>\n",
              "    </tr>\n",
              "    <tr>\n",
              "      <td>24</td>\n",
              "      <td>0.888539</td>\n",
              "      <td>0.788854</td>\n",
              "      <td>0.718200</td>\n",
              "      <td>01:10</td>\n",
              "    </tr>\n",
              "    <tr>\n",
              "      <td>25</td>\n",
              "      <td>0.886045</td>\n",
              "      <td>0.839408</td>\n",
              "      <td>0.715200</td>\n",
              "      <td>01:10</td>\n",
              "    </tr>\n",
              "    <tr>\n",
              "      <td>26</td>\n",
              "      <td>0.870087</td>\n",
              "      <td>0.794241</td>\n",
              "      <td>0.721200</td>\n",
              "      <td>01:12</td>\n",
              "    </tr>\n",
              "    <tr>\n",
              "      <td>27</td>\n",
              "      <td>0.852229</td>\n",
              "      <td>0.785915</td>\n",
              "      <td>0.724900</td>\n",
              "      <td>01:12</td>\n",
              "    </tr>\n",
              "    <tr>\n",
              "      <td>28</td>\n",
              "      <td>0.838784</td>\n",
              "      <td>0.786877</td>\n",
              "      <td>0.727200</td>\n",
              "      <td>01:11</td>\n",
              "    </tr>\n",
              "    <tr>\n",
              "      <td>29</td>\n",
              "      <td>0.843068</td>\n",
              "      <td>0.834991</td>\n",
              "      <td>0.708100</td>\n",
              "      <td>01:12</td>\n",
              "    </tr>\n",
              "    <tr>\n",
              "      <td>30</td>\n",
              "      <td>0.826185</td>\n",
              "      <td>0.754890</td>\n",
              "      <td>0.743000</td>\n",
              "      <td>01:12</td>\n",
              "    </tr>\n",
              "    <tr>\n",
              "      <td>31</td>\n",
              "      <td>0.810883</td>\n",
              "      <td>0.764824</td>\n",
              "      <td>0.734600</td>\n",
              "      <td>01:12</td>\n",
              "    </tr>\n",
              "    <tr>\n",
              "      <td>32</td>\n",
              "      <td>0.819916</td>\n",
              "      <td>0.763830</td>\n",
              "      <td>0.738900</td>\n",
              "      <td>01:12</td>\n",
              "    </tr>\n",
              "    <tr>\n",
              "      <td>33</td>\n",
              "      <td>0.792185</td>\n",
              "      <td>0.769527</td>\n",
              "      <td>0.735700</td>\n",
              "      <td>01:11</td>\n",
              "    </tr>\n",
              "    <tr>\n",
              "      <td>34</td>\n",
              "      <td>0.786387</td>\n",
              "      <td>0.759551</td>\n",
              "      <td>0.743400</td>\n",
              "      <td>01:11</td>\n",
              "    </tr>\n",
              "    <tr>\n",
              "      <td>35</td>\n",
              "      <td>0.777722</td>\n",
              "      <td>0.711083</td>\n",
              "      <td>0.755700</td>\n",
              "      <td>01:11</td>\n",
              "    </tr>\n",
              "    <tr>\n",
              "      <td>36</td>\n",
              "      <td>0.756921</td>\n",
              "      <td>0.724650</td>\n",
              "      <td>0.755200</td>\n",
              "      <td>01:12</td>\n",
              "    </tr>\n",
              "    <tr>\n",
              "      <td>37</td>\n",
              "      <td>0.763381</td>\n",
              "      <td>0.691615</td>\n",
              "      <td>0.761600</td>\n",
              "      <td>01:12</td>\n",
              "    </tr>\n",
              "    <tr>\n",
              "      <td>38</td>\n",
              "      <td>0.736786</td>\n",
              "      <td>0.678017</td>\n",
              "      <td>0.770000</td>\n",
              "      <td>01:11</td>\n",
              "    </tr>\n",
              "    <tr>\n",
              "      <td>39</td>\n",
              "      <td>0.726686</td>\n",
              "      <td>0.682230</td>\n",
              "      <td>0.772400</td>\n",
              "      <td>01:12</td>\n",
              "    </tr>\n",
              "    <tr>\n",
              "      <td>40</td>\n",
              "      <td>0.723983</td>\n",
              "      <td>0.684378</td>\n",
              "      <td>0.766400</td>\n",
              "      <td>01:12</td>\n",
              "    </tr>\n",
              "    <tr>\n",
              "      <td>41</td>\n",
              "      <td>0.696896</td>\n",
              "      <td>0.677112</td>\n",
              "      <td>0.768100</td>\n",
              "      <td>01:12</td>\n",
              "    </tr>\n",
              "    <tr>\n",
              "      <td>42</td>\n",
              "      <td>0.697122</td>\n",
              "      <td>0.662062</td>\n",
              "      <td>0.774700</td>\n",
              "      <td>01:11</td>\n",
              "    </tr>\n",
              "    <tr>\n",
              "      <td>43</td>\n",
              "      <td>0.688537</td>\n",
              "      <td>0.663631</td>\n",
              "      <td>0.773700</td>\n",
              "      <td>01:11</td>\n",
              "    </tr>\n",
              "    <tr>\n",
              "      <td>44</td>\n",
              "      <td>0.695309</td>\n",
              "      <td>0.661752</td>\n",
              "      <td>0.775900</td>\n",
              "      <td>01:11</td>\n",
              "    </tr>\n",
              "    <tr>\n",
              "      <td>45</td>\n",
              "      <td>0.682291</td>\n",
              "      <td>0.656144</td>\n",
              "      <td>0.777800</td>\n",
              "      <td>01:11</td>\n",
              "    </tr>\n",
              "    <tr>\n",
              "      <td>46</td>\n",
              "      <td>0.668448</td>\n",
              "      <td>0.656524</td>\n",
              "      <td>0.777700</td>\n",
              "      <td>01:12</td>\n",
              "    </tr>\n",
              "    <tr>\n",
              "      <td>47</td>\n",
              "      <td>0.679319</td>\n",
              "      <td>0.653661</td>\n",
              "      <td>0.778500</td>\n",
              "      <td>01:12</td>\n",
              "    </tr>\n",
              "    <tr>\n",
              "      <td>48</td>\n",
              "      <td>0.686558</td>\n",
              "      <td>0.672350</td>\n",
              "      <td>0.771300</td>\n",
              "      <td>01:12</td>\n",
              "    </tr>\n",
              "    <tr>\n",
              "      <td>49</td>\n",
              "      <td>0.664308</td>\n",
              "      <td>0.658208</td>\n",
              "      <td>0.776800</td>\n",
              "      <td>01:12</td>\n",
              "    </tr>\n",
              "  </tbody>\n",
              "</table>"
            ],
            "text/plain": [
              "<IPython.core.display.HTML object>"
            ]
          },
          "metadata": {
            "tags": []
          }
        }
      ]
    },
    {
      "cell_type": "code",
      "metadata": {
        "id": "IEpVezOB4JiH",
        "colab_type": "code",
        "colab": {
          "base_uri": "https://localhost:8080/",
          "height": 282
        },
        "outputId": "19082c11-2261-41ca-974e-044b716c788e"
      },
      "source": [
        "learn.recorder.plot_losses()"
      ],
      "execution_count": 50,
      "outputs": [
        {
          "output_type": "display_data",
          "data": {
            "image/png": "[encoded data removed]",
            "text/plain": [
              "<Figure size 432x288 with 1 Axes>"
            ]
          },
          "metadata": {
            "tags": []
          }
        }
      ]
    }
  ]
}
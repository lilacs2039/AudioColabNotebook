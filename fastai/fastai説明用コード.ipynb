{
  "nbformat": 4,
  "nbformat_minor": 0,
  "metadata": {
    "colab": {
      "name": "fastai説明用コード.ipynb",
      "version": "0.3.2",
      "provenance": [],
      "toc_visible": true,
      "include_colab_link": true
    },
    "kernelspec": {
      "name": "python3",
      "display_name": "Python 3"
    },
    "accelerator": "GPU"
  },
  "cells": [
    {
      "cell_type": "markdown",
      "metadata": {
        "id": "view-in-github",
        "colab_type": "text"
      },
      "source": [
        "<a href=\"https://colab.research.google.com/github/lilacs2039/ColabNotebooks/blob/master/fastai/fastai%E8%AA%AC%E6%98%8E%E7%94%A8%E3%82%B3%E3%83%BC%E3%83%89.ipynb\" target=\"_parent\"><img src=\"https://colab.research.google.com/assets/colab-badge.svg\" alt=\"Open In Colab\"/></a>"
      ]
    },
    {
      "cell_type": "markdown",
      "metadata": {
        "id": "aaVufycPvbjZ",
        "colab_type": "text"
      },
      "source": [
        "# 準備"
      ]
    },
    {
      "cell_type": "code",
      "metadata": {
        "id": "ZoDWPLWLvZ_1",
        "colab_type": "code",
        "outputId": "431e4b23-ab33-4e25-fa2e-ba129de7fd49",
        "colab": {
          "base_uri": "https://localhost:8080/",
          "height": 105
        }
      },
      "source": [
        "# fastai公式のスクリプトを実行して、Colaboratoryにfastai環境を設定\n",
        "# セットアップ・使い方　https://course.fast.ai/start_colab.html\n",
        "# fast.ai forumのColabのページ。　https://forums.fast.ai/t/platform-colab/28161/11\n",
        "!curl https://course-v3.fast.ai/setup/colab | bash"
      ],
      "execution_count": 0,
      "outputs": [
        {
          "output_type": "stream",
          "text": [
            "  % Total    % Received % Xferd  Average Speed   Time    Time     Time  Current\n",
            "                                 Dload  Upload   Total   Spent    Left  Speed\n",
            "100   287  100   287    0     0      8      0  0:00:35  0:00:32  0:00:03    75\n",
            "bash: line 1: syntax error near unexpected token `newline'\n",
            "bash: line 1: `<!DOCTYPE HTML PUBLIC \"-//IETF//DTD HTML 2.0//EN\">'\n"
          ],
          "name": "stdout"
        }
      ]
    },
    {
      "cell_type": "code",
      "metadata": {
        "id": "agVgsB6WPE6h",
        "colab_type": "code",
        "colab": {}
      },
      "source": [
        "%reload_ext autoreload\n",
        "%autoreload 2\n",
        "%matplotlib inline\n",
        "\n",
        "from fastai.vision import *\n",
        "from fastai.metrics import error_rate\n",
        "from torchsummary import summary"
      ],
      "execution_count": 0,
      "outputs": []
    },
    {
      "cell_type": "markdown",
      "metadata": {
        "id": "SY3RDGeMPGKw",
        "colab_type": "text"
      },
      "source": [
        "# サンプルコード"
      ]
    },
    {
      "cell_type": "code",
      "metadata": {
        "id": "qGU9xFSnOMmv",
        "colab_type": "code",
        "colab": {}
      },
      "source": [
        "path = untar_data(URLs.MNIST_SAMPLE)"
      ],
      "execution_count": 0,
      "outputs": []
    },
    {
      "cell_type": "code",
      "metadata": {
        "id": "_qsNENRrOgS_",
        "colab_type": "code",
        "outputId": "ec320add-4c4d-426c-ecc7-871b3ea0f28e",
        "colab": {
          "base_uri": "https://localhost:8080/",
          "height": 300
        }
      },
      "source": [
        "data = ImageDataBunch.from_folder(path)\n",
        "learn = cnn_learner(data, models.resnet18, metrics=accuracy)\n",
        "learn.lr_find()\n",
        "learn.recorder.plot()"
      ],
      "execution_count": 22,
      "outputs": [
        {
          "output_type": "display_data",
          "data": {
            "text/html": [
              ""
            ],
            "text/plain": [
              "<IPython.core.display.HTML object>"
            ]
          },
          "metadata": {
            "tags": []
          }
        },
        {
          "output_type": "stream",
          "text": [
            "LR Finder is complete, type {learner_name}.recorder.plot() to see the graph.\n"
          ],
          "name": "stdout"
        },
        {
          "output_type": "display_data",
          "data": {
            "image/png": "[encoded data removed]",
            "text/plain": [
              "<Figure size 432x288 with 1 Axes>"
            ]
          },
          "metadata": {
            "tags": []
          }
        }
      ]
    },
    {
      "cell_type": "code",
      "metadata": {
        "id": "gBjg0yu7RYu1",
        "colab_type": "code",
        "outputId": "68e887c8-0562-4de6-bf7f-9f3c7d1ce8a5",
        "colab": {
          "base_uri": "https://localhost:8080/",
          "height": 77
        }
      },
      "source": [
        "learn.fit_one_cycle(1,max_lr=3e-2)"
      ],
      "execution_count": 23,
      "outputs": [
        {
          "output_type": "display_data",
          "data": {
            "text/html": [
              "<table border=\"1\" class=\"dataframe\">\n",
              "  <thead>\n",
              "    <tr style=\"text-align: left;\">\n",
              "      <th>epoch</th>\n",
              "      <th>train_loss</th>\n",
              "      <th>valid_loss</th>\n",
              "      <th>accuracy</th>\n",
              "      <th>time</th>\n",
              "    </tr>\n",
              "  </thead>\n",
              "  <tbody>\n",
              "    <tr>\n",
              "      <td>0</td>\n",
              "      <td>0.043553</td>\n",
              "      <td>0.014168</td>\n",
              "      <td>0.995584</td>\n",
              "      <td>00:08</td>\n",
              "    </tr>\n",
              "  </tbody>\n",
              "</table>"
            ],
            "text/plain": [
              "<IPython.core.display.HTML object>"
            ]
          },
          "metadata": {
            "tags": []
          }
        }
      ]
    },
    {
      "cell_type": "code",
      "metadata": {
        "id": "bnJfvAAVS9Kz",
        "colab_type": "code",
        "outputId": "946bc508-6065-48e7-c3d8-86aee1f7a852",
        "colab": {
          "base_uri": "https://localhost:8080/",
          "height": 77
        }
      },
      "source": [
        "learn.unfreeze()\n",
        "learn.fit_one_cycle(1,max_lr=slice(1e-6,1e-4))"
      ],
      "execution_count": 24,
      "outputs": [
        {
          "output_type": "display_data",
          "data": {
            "text/html": [
              "<table border=\"1\" class=\"dataframe\">\n",
              "  <thead>\n",
              "    <tr style=\"text-align: left;\">\n",
              "      <th>epoch</th>\n",
              "      <th>train_loss</th>\n",
              "      <th>valid_loss</th>\n",
              "      <th>accuracy</th>\n",
              "      <th>time</th>\n",
              "    </tr>\n",
              "  </thead>\n",
              "  <tbody>\n",
              "    <tr>\n",
              "      <td>0</td>\n",
              "      <td>0.017371</td>\n",
              "      <td>0.010728</td>\n",
              "      <td>0.996565</td>\n",
              "      <td>00:08</td>\n",
              "    </tr>\n",
              "  </tbody>\n",
              "</table>"
            ],
            "text/plain": [
              "<IPython.core.display.HTML object>"
            ]
          },
          "metadata": {
            "tags": []
          }
        }
      ]
    }
  ]
}
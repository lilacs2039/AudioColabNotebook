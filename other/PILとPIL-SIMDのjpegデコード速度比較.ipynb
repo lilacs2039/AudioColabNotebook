{
 "cells": [
  {
   "cell_type": "markdown",
   "id": "019ce16d-be27-4ead-99a8-505dea50c00e",
   "metadata": {},
   "source": [
    "# PILとPIL-SIMDのjpegデコード速度比較\n",
    "\n",
    "画像処理DNNでは、JPEGデコードやオーグメンテーションの処理時間がボトルネックになるため。\n",
    "\n",
    "参考　[Pillow-SIMDを使った画像処理やディープラーニングの高速化の紹介 - Qiita](https://qiita.com/koshian2/items/c26656a565e42093069d)\n",
    "\n",
    "Pillow-SIMDはwindows10だとインストールに問題が起こるので、非公式whlから入れた。"
   ]
  },
  {
   "cell_type": "markdown",
   "id": "dea17d7c-fa4d-40e6-a7b2-34be013aa93e",
   "metadata": {},
   "source": [
    "# モデルの作成・学習"
   ]
  },
  {
   "cell_type": "markdown",
   "id": "456e4878-652e-458a-a29a-6cb53cb5d668",
   "metadata": {},
   "source": [
    "## 初期化"
   ]
  },
  {
   "cell_type": "code",
   "execution_count": 1,
   "id": "0bca2b8d-1cb2-46de-a244-47a814911298",
   "metadata": {},
   "outputs": [],
   "source": [
    "%reload_ext autoreload\n",
    "%autoreload 2\n",
    "%matplotlib inline"
   ]
  },
  {
   "cell_type": "markdown",
   "id": "029046e4-43d1-4e3a-b76e-c68dca6e3c3d",
   "metadata": {},
   "source": [
    "fastaiのimport"
   ]
  },
  {
   "cell_type": "code",
   "execution_count": 2,
   "id": "546c6edc-f358-42a3-953d-02be7e6c63f7",
   "metadata": {},
   "outputs": [],
   "source": [
    "from fastai.vision.all import *\n",
    "from fastai.callback.fp16 import *    # Mixed Precisionで学習するときに必要"
   ]
  },
  {
   "cell_type": "markdown",
   "id": "f2c8833a-0df2-4502-b933-f586f1d5145d",
   "metadata": {},
   "source": [
    "その他のライブラリのimport"
   ]
  },
  {
   "cell_type": "code",
   "execution_count": 3,
   "id": "626fd062-9af3-452c-8a70-898db3cb6173",
   "metadata": {},
   "outputs": [],
   "source": [
    "from pathlib import Path\n",
    "import tqdm\n",
    "import json\n",
    "import glob\n",
    "from torchsummary import summary\n",
    "import datetime  # fastai？に上書きされないように。\n"
   ]
  },
  {
   "cell_type": "markdown",
   "id": "995ef39e-9d1b-4dcc-aa06-165d019d74eb",
   "metadata": {
    "tags": []
   },
   "source": [
    "## データ準備"
   ]
  },
  {
   "cell_type": "markdown",
   "id": "754f30fa-14ef-4ca3-af5b-445a60af7a84",
   "metadata": {},
   "source": [
    "fastaiの機能でデータセット取得、約1.8GB"
   ]
  },
  {
   "cell_type": "code",
   "execution_count": 4,
   "id": "7aae0c19-0918-49b9-9db7-50b3f543aecc",
   "metadata": {},
   "outputs": [],
   "source": [
    "# データのルートフォルダ\n",
    "img_root_path = untar_data(URLs.PETS) "
   ]
  },
  {
   "cell_type": "markdown",
   "id": "5d183169-45af-4e5e-83f6-c97338fdd2c1",
   "metadata": {},
   "source": [
    "データセットのフォルダ構成確認。imagesフォルダなどがある。"
   ]
  },
  {
   "cell_type": "code",
   "execution_count": 5,
   "id": "19d6aada-3512-4e63-9e29-decdd514a1cf",
   "metadata": {},
   "outputs": [
    {
     "data": {
      "text/plain": [
       "[Path('annotations'),\n",
       " Path('crappy'),\n",
       " Path('images'),\n",
       " Path('image_gen'),\n",
       " Path('models')]"
      ]
     },
     "execution_count": 5,
     "metadata": {},
     "output_type": "execute_result"
    }
   ],
   "source": [
    "[p.relative_to(img_root_path) for p in img_root_path.ls()]"
   ]
  },
  {
   "cell_type": "markdown",
   "id": "1f4cf8b3-a28f-451e-8e25-f1dbcf303580",
   "metadata": {},
   "source": [
    "今回はimagesフォルダのデータだけ使う。"
   ]
  },
  {
   "cell_type": "code",
   "execution_count": 6,
   "id": "235728ae-a62d-448e-a243-78ef60fdd241",
   "metadata": {},
   "outputs": [],
   "source": [
    "# 前処理前の画像のフォルダ\n",
    "img_original_path = img_root_path/'images'"
   ]
  },
  {
   "cell_type": "code",
   "execution_count": 7,
   "id": "f22c80b1-f416-44b1-b6fb-1e69b5c9ab01",
   "metadata": {},
   "outputs": [],
   "source": [
    "# 前処理後の画像を配置するフォルダ\n",
    "img_preprocessed_path = Path('D:/bulk/dataset/image/PETS/train256')  "
   ]
  },
  {
   "cell_type": "markdown",
   "id": "3f8976b3-0fc8-47ab-b510-7594857cc600",
   "metadata": {},
   "source": [
    "画像のpathへのリストを取得。画像は約7000件"
   ]
  },
  {
   "cell_type": "code",
   "execution_count": 8,
   "id": "7b6d23b1-2bae-4711-9645-3bfc7077f282",
   "metadata": {},
   "outputs": [
    {
     "data": {
      "text/plain": [
       "7390"
      ]
     },
     "execution_count": 8,
     "metadata": {},
     "output_type": "execute_result"
    }
   ],
   "source": [
    "files = get_image_files(img_original_path); len(files)"
   ]
  },
  {
   "cell_type": "markdown",
   "id": "5a6cf4d1-25ab-4c35-9597-5b3be3283c73",
   "metadata": {},
   "source": [
    "# 実験"
   ]
  },
  {
   "cell_type": "code",
   "execution_count": 9,
   "id": "cfdb0990-b60d-4e5a-a0df-4e8f91a1d916",
   "metadata": {},
   "outputs": [
    {
     "name": "stderr",
     "output_type": "stream",
     "text": [
      "100%|█████████████████████████████████████████████████████████████████████████████| 7390/7390 [00:12<00:00, 609.44it/s]"
     ]
    },
    {
     "name": "stdout",
     "output_type": "stream",
     "text": [
      "経過時間 =  12.128921747207642 s\n"
     ]
    },
    {
     "name": "stderr",
     "output_type": "stream",
     "text": [
      "\n"
     ]
    }
   ],
   "source": [
    "import time\n",
    "import glob\n",
    "from PIL import Image, ImageEnhance\n",
    "from tqdm import tqdm\n",
    "\n",
    "def normal_pillow():\n",
    "    files = sorted(get_image_files(img_original_path))\n",
    "    start_time = time.time()\n",
    "    list = []\n",
    "    for f in tqdm(files):\n",
    "        try:\n",
    "            with Image.open(f) as img:\n",
    "                img = img.resize((128, 128), Image.LANCZOS)\n",
    "                img = ImageEnhance.Sharpness(img).enhance(2.0)\n",
    "        except:\n",
    "            list.append(f)\n",
    "            continue\n",
    "    print(\"経過時間 = \", time.time()-start_time, \"s\")\n",
    "    return list\n",
    "\n",
    "normal_pillow();"
   ]
  },
  {
   "cell_type": "markdown",
   "id": "24baf2a4-58ab-49ac-812c-69aec492d98d",
   "metadata": {},
   "source": [
    "📌通常のPILでPetsデータセットの画像約7000枚をリサイズ・シャープネス変換、約26.3秒"
   ]
  },
  {
   "cell_type": "markdown",
   "id": "df1c2167-a91f-4f61-9711-1663944e400c",
   "metadata": {},
   "source": [
    "📌PIL-SIMDでPetsデータセットの画像約7000枚をリサイズ・シャープネス変換、約12.0秒"
   ]
  },
  {
   "cell_type": "markdown",
   "id": "3d588899-3cad-45e5-94ab-3d8f85e22256",
   "metadata": {},
   "source": [
    "１秒当たりの変換枚数"
   ]
  },
  {
   "cell_type": "code",
   "execution_count": 10,
   "id": "47d37d14-3c8e-4b53-a3c5-1648c92f2df7",
   "metadata": {},
   "outputs": [
    {
     "data": {
      "text/plain": [
       "<BarContainer object of 2 artists>"
      ]
     },
     "execution_count": 10,
     "metadata": {},
     "output_type": "execute_result"
    },
    {
     "data": {
      "image/png": "[encoded data removed]",
      "text/plain": [
       "<Figure size 432x288 with 1 Axes>"
      ]
     },
     "metadata": {
      "needs_background": "light"
     },
     "output_type": "display_data"
    }
   ],
   "source": [
    "plt.bar(['PIL','PIL-SIMD'],[7390/26.3,7390/12])"
   ]
  },
  {
   "cell_type": "markdown",
   "id": "95b4c906-5b67-49ad-8ac1-0c07e2cab3d0",
   "metadata": {},
   "source": [
    "# 実験２　デコードだけ"
   ]
  },
  {
   "cell_type": "code",
   "execution_count": 11,
   "id": "b71d5f7c-dd42-42f5-a00a-3e3f6397d651",
   "metadata": {},
   "outputs": [
    {
     "name": "stderr",
     "output_type": "stream",
     "text": [
      "100%|████████████████████████████████████████████████████████████████████████████| 7390/7390 [00:01<00:00, 5594.25it/s]"
     ]
    },
    {
     "name": "stdout",
     "output_type": "stream",
     "text": [
      "経過時間 =  1.3220009803771973 s\n"
     ]
    },
    {
     "name": "stderr",
     "output_type": "stream",
     "text": [
      "\n"
     ]
    },
    {
     "data": {
      "text/plain": [
       "[]"
      ]
     },
     "execution_count": 11,
     "metadata": {},
     "output_type": "execute_result"
    }
   ],
   "source": [
    "import time\n",
    "import glob\n",
    "from PIL import Image, ImageEnhance\n",
    "from tqdm import tqdm\n",
    "\n",
    "def normal_pillow_decode():\n",
    "    files = sorted(get_image_files(img_original_path))\n",
    "    start_time = time.time()\n",
    "    list = []\n",
    "    sizes = []\n",
    "    for f in tqdm(files):\n",
    "        try:\n",
    "            with Image.open(f) as img:\n",
    "                sizes.append(img.shape)\n",
    "                # img = img.resize((128, 128), Image.LANCZOS)\n",
    "                # img = ImageEnhance.Sharpness(img).enhance(2.0)\n",
    "        except:\n",
    "            list.append(f)\n",
    "            continue\n",
    "    print(\"経過時間 = \", time.time()-start_time, \"s\")\n",
    "    return list\n",
    "\n",
    "normal_pillow_decode();"
   ]
  },
  {
   "cell_type": "code",
   "execution_count": null,
   "id": "b6641a67-d710-4376-88ec-d41b64c57187",
   "metadata": {},
   "outputs": [],
   "source": []
  }
 ],
 "metadata": {
  "kernelspec": {
   "display_name": "Python 3 (ipykernel)",
   "language": "python",
   "name": "python3"
  },
  "language_info": {
   "codemirror_mode": {
    "name": "ipython",
    "version": 3
   },
   "file_extension": ".py",
   "mimetype": "text/x-python",
   "name": "python",
   "nbconvert_exporter": "python",
   "pygments_lexer": "ipython3",
   "version": "3.9.10"
  }
 },
 "nbformat": 4,
 "nbformat_minor": 5
}

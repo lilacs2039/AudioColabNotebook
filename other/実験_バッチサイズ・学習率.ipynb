{
 "cells": [
  {
   "cell_type": "markdown",
   "id": "5e810573-0b9b-4c23-b168-fdd967844f8d",
   "metadata": {},
   "source": [
    "# 実験_バッチサイズ・学習率\n",
    "\n",
    "累積勾配(Gradient Accumulation)　あり・なしで、学習の安定性を比較する。"
   ]
  },
  {
   "cell_type": "markdown",
   "id": "456e4878-652e-458a-a29a-6cb53cb5d668",
   "metadata": {},
   "source": [
    "## 初期化"
   ]
  },
  {
   "cell_type": "code",
   "execution_count": 1,
   "id": "0bca2b8d-1cb2-46de-a244-47a814911298",
   "metadata": {},
   "outputs": [],
   "source": [
    "%reload_ext autoreload\n",
    "%autoreload 2\n",
    "%matplotlib inline"
   ]
  },
  {
   "cell_type": "markdown",
   "id": "029046e4-43d1-4e3a-b76e-c68dca6e3c3d",
   "metadata": {},
   "source": [
    "fastaiのimport"
   ]
  },
  {
   "cell_type": "code",
   "execution_count": 2,
   "id": "546c6edc-f358-42a3-953d-02be7e6c63f7",
   "metadata": {},
   "outputs": [],
   "source": [
    "from fastai.vision.all import *\n",
    "from fastai.callback.fp16 import *    # Mixed Precisionで学習するときに必要"
   ]
  },
  {
   "cell_type": "markdown",
   "id": "f2c8833a-0df2-4502-b933-f586f1d5145d",
   "metadata": {},
   "source": [
    "その他のライブラリのimport"
   ]
  },
  {
   "cell_type": "code",
   "execution_count": 3,
   "id": "626fd062-9af3-452c-8a70-898db3cb6173",
   "metadata": {},
   "outputs": [],
   "source": [
    "from pathlib import Path\n",
    "import tqdm\n",
    "import json\n",
    "import glob\n",
    "from torchsummary import summary\n",
    "import datetime  # fastai？に上書きされないように。"
   ]
  },
  {
   "cell_type": "markdown",
   "id": "cfb2cf8b-fcd0-4906-85c9-deffe4de1681",
   "metadata": {},
   "source": [
    "環境とfastaiのバージョン確認"
   ]
  },
  {
   "cell_type": "code",
   "execution_count": 4,
   "id": "f1d95008-b611-42f8-a442-ecec22058d50",
   "metadata": {},
   "outputs": [
    {
     "name": "stdout",
     "output_type": "stream",
     "text": [
      "Couldn't find program: 'false'\n"
     ]
    }
   ],
   "source": [
    "%%script false\n",
    "from fastai.test_utils import show_install; show_install()\n",
    "\n",
    "# 出力内容\n",
    "# === Software === \n",
    "# python        : 3.9.10\n",
    "# fastai        : 2.6.3\n",
    "# fastcore      : 1.3.27\n",
    "# fastprogress  : 1.0.2\n",
    "# torch         : 1.11.0+cu113\n",
    "# nvidia driver : 512.77\n",
    "# torch cuda    : 11.3 / is available\n",
    "# torch cudnn   : 8200 / is enabled\n",
    "\n",
    "# === Hardware === \n",
    "# nvidia gpus   : 2\n",
    "# torch devices : 2\n",
    "#   - gpu0      : NVIDIA GeForce RTX 3070 Ti\n",
    "#   - gpu1      : NVIDIA GeForce GTX 1070\n",
    "\n",
    "# === Environment === \n",
    "# platform      : Windows-10-10.0.19044-SP0\n",
    "# conda env     : Unknown\n",
    "# python        : C:/Users/User/AppData/Local/Programs/Python/Python39/python.exe\n",
    "# sys.path      : ...\n"
   ]
  },
  {
   "cell_type": "markdown",
   "id": "c37762b2-72ad-4281-bf96-aabce8f844fc",
   "metadata": {},
   "source": [
    "## パラメータ"
   ]
  },
  {
   "cell_type": "code",
   "execution_count": 5,
   "id": "d1db9858-7afe-4e4b-9262-ad70035031da",
   "metadata": {},
   "outputs": [],
   "source": [
    "bs_step = 64      # 計算時のバッチサイズ\n",
    "bs_update = 1024  # 勾配更新時のバッチサイズ\n",
    "imsize_pre=256\n",
    "imsize_croped=224\n",
    "np.random.seed(42)"
   ]
  },
  {
   "cell_type": "markdown",
   "id": "995ef39e-9d1b-4dcc-aa06-165d019d74eb",
   "metadata": {},
   "source": [
    "## データ準備"
   ]
  },
  {
   "cell_type": "markdown",
   "id": "754f30fa-14ef-4ca3-af5b-445a60af7a84",
   "metadata": {},
   "source": [
    "fastaiの機能でデータセット取得、約1.8GB"
   ]
  },
  {
   "cell_type": "code",
   "execution_count": 6,
   "id": "7aae0c19-0918-49b9-9db7-50b3f543aecc",
   "metadata": {},
   "outputs": [],
   "source": [
    "# データのルートフォルダ\n",
    "img_root_path = untar_data(URLs.PETS) "
   ]
  },
  {
   "cell_type": "markdown",
   "id": "5d183169-45af-4e5e-83f6-c97338fdd2c1",
   "metadata": {},
   "source": [
    "データセットのフォルダ構成確認。imagesフォルダなどがある。"
   ]
  },
  {
   "cell_type": "code",
   "execution_count": 41,
   "id": "19d6aada-3512-4e63-9e29-decdd514a1cf",
   "metadata": {},
   "outputs": [
    {
     "data": {
      "text/plain": [
       "[Path('annotations'),\n",
       " Path('crappy'),\n",
       " Path('images'),\n",
       " Path('image_gen'),\n",
       " Path('models')]"
      ]
     },
     "execution_count": 41,
     "metadata": {},
     "output_type": "execute_result"
    }
   ],
   "source": [
    "[p.relative_to(img_root_path) for p in img_root_path.ls()]"
   ]
  },
  {
   "cell_type": "markdown",
   "id": "1f4cf8b3-a28f-451e-8e25-f1dbcf303580",
   "metadata": {},
   "source": [
    "今回はimagesフォルダのデータだけ使う。"
   ]
  },
  {
   "cell_type": "code",
   "execution_count": 8,
   "id": "235728ae-a62d-448e-a243-78ef60fdd241",
   "metadata": {},
   "outputs": [],
   "source": [
    "# 前処理前の画像のフォルダ\n",
    "img_original_path = img_root_path/'images'"
   ]
  },
  {
   "cell_type": "code",
   "execution_count": 9,
   "id": "f22c80b1-f416-44b1-b6fb-1e69b5c9ab01",
   "metadata": {},
   "outputs": [],
   "source": [
    "# 前処理後の画像を配置するフォルダ\n",
    "img_preprocessed_path = Path('D:/bulk/dataset/image/PETS/train256') "
   ]
  },
  {
   "cell_type": "markdown",
   "id": "3f8976b3-0fc8-47ab-b510-7594857cc600",
   "metadata": {},
   "source": [
    "画像のpathへのリストを取得。画像は約7000件"
   ]
  },
  {
   "cell_type": "code",
   "execution_count": 10,
   "id": "7b6d23b1-2bae-4711-9645-3bfc7077f282",
   "metadata": {},
   "outputs": [
    {
     "data": {
      "text/plain": [
       "7390"
      ]
     },
     "execution_count": 10,
     "metadata": {},
     "output_type": "execute_result"
    }
   ],
   "source": [
    "files = get_image_files(img_original_path); len(files)"
   ]
  },
  {
   "cell_type": "markdown",
   "id": "b9a99295-6e4a-4621-99c0-6cdbea01bb80",
   "metadata": {},
   "source": [
    "## DataLoaders定義"
   ]
  },
  {
   "cell_type": "markdown",
   "id": "634fa36e-d2a4-421e-b94c-a9ffc63ad8d2",
   "metadata": {},
   "source": [
    "- [Data Block API](https://docs.fast.ai/data.block.html)でデータセットの画像・ラベルの読み込み方法を指定。\n",
    "- DataBlockからDataLoadersを作成"
   ]
  },
  {
   "cell_type": "code",
   "execution_count": 11,
   "id": "7c431647-860b-4525-87b3-9b5a65061ba9",
   "metadata": {},
   "outputs": [
    {
     "name": "stdout",
     "output_type": "stream",
     "text": [
      "Due to IPython and Windows limitation, python multiprocessing isn't available now.\n",
      "So `number_workers` is changed to 0 to avoid getting stuck\n"
     ]
    }
   ],
   "source": [
    "def label_number(p:Path)->str:\n",
    "    \"画像のパスから正解ラベルを取得\"\n",
    "    return str(p.name).split('_')[0]\n",
    "\n",
    "dblock = DataBlock(blocks=(ImageBlock, CategoryBlock),   # ImageとCategoryを１サンプルとする\n",
    "    get_items=get_image_files,                           # itemの集合の取得関数の指定。get_image_files(path)の出力、つまりPathのリストをitemsとする。\n",
    "    splitter=RandomSplitter(valid_pct=0.2),              # train/validの分割方法。　20%をvalidにする\n",
    "    get_y=label_number,                                  # ラベルの取得方法。　label_number(path)\n",
    "    item_tfms=CropPad(256),                                      # 入力画像を読込むときの変換\n",
    "    batch_tfms=aug_transforms(size=imsize_croped),       # バッチ処理するときの変換。オーグメンテーションを指定。\n",
    "    n_inp=1\n",
    ")\n",
    "\n",
    "dls = dblock.dataloaders(img_preprocessed_path, batch_size=bs_step)"
   ]
  },
  {
   "cell_type": "markdown",
   "id": "5efc479d-77df-4979-b734-7b24a1248fc8",
   "metadata": {
    "tags": []
   },
   "source": [
    "## Learner定義"
   ]
  },
  {
   "cell_type": "markdown",
   "id": "de24ea35-02c9-4d5a-8569-15e5028bd808",
   "metadata": {},
   "source": [
    "### Model定義"
   ]
  },
  {
   "cell_type": "markdown",
   "id": "7ba73885-ae4d-4c0c-8ee8-49fbeac49ee2",
   "metadata": {},
   "source": [
    "今回は自作Modelを定義する。転移学習時のパラメータ固定範囲のためにsplitterが必要。"
   ]
  },
  {
   "cell_type": "code",
   "execution_count": 12,
   "id": "b8eb8c08-2a58-4e1f-85a2-ba2182984b10",
   "metadata": {},
   "outputs": [],
   "source": [
    "class Net(Module):\n",
    "    def __init__(self, arch=resnet34, nc=dls.c, pretrained=True):\n",
    "        self.body = create_body(arch, pretrained=pretrained)\n",
    "        nf = num_features_model(nn.Sequential(*self.body.children()))\n",
    "        self.head = create_head(nf,nc,lin_ftrs=[nc*4])\n",
    "        \n",
    "    def forward(self, x):    \n",
    "        x = self.body(x)\n",
    "        return self.head(x)\n",
    "        \n",
    "def splitter(model:Net):\n",
    "    \"\"\"\n",
    "    Model分割方法の指示。\n",
    "    転移学習のとき、どこまでパラメータ固定するか判断するのに使用する。\n",
    "    今回は、Modelパラメータをbodyとheadの２つに分けた。\n",
    "    \"\"\"\n",
    "    return [params(model.body), params(model.head)]        \n"
   ]
  },
  {
   "cell_type": "markdown",
   "id": "dae60b0f-344c-418b-a357-1e51d61f41f9",
   "metadata": {},
   "source": [
    "### Metrics\n",
    "学習中に表示する評価指標。fastai標準の関数のほかに、任意の関数を定義して利用できる。"
   ]
  },
  {
   "cell_type": "markdown",
   "id": "633df1aa-1db9-4f3a-abb0-f54d20081ad8",
   "metadata": {},
   "source": [
    "今回は、「MAP(Mean Average Precision)@10」をMetricに追加する。"
   ]
  },
  {
   "cell_type": "code",
   "execution_count": 13,
   "id": "68cb41ac-98dd-4ca1-8cad-8e88dadf8949",
   "metadata": {},
   "outputs": [],
   "source": [
    "SCORE_TEMPLATE = (1/(torch.arange(10)+1)).cuda()  # 例）tensor([1.0000, 0.5000, 0.3333, 0.2500, 0.2000, 0.1667, 0.1429, 0.1250, 0.1111, 0.1000])\n",
    "def map10(preds:Tensor, ans:Tensor):\n",
    "    \"評価関数「MAP（Mean Average Precision）@10」\"\n",
    "    assert preds.ndim==2, f'期待：preds.ndim==2, actual:{preds.ndim}. (batch_size, cls_confidence)'\n",
    "    confidence = preds.argsort(descending=True)[:,:10]\n",
    "    n_sample = len(preds)\n",
    "    score = 0\n",
    "    for pred, y in zip(confidence, ans):\n",
    "        mask = torch.eq(pred,y).type(torch.uint8)  # 正解なら1のマスク　例）TensorCategory([1, 0, 0, 0, 0, 0, 0, 0, 0, 0], dtype=torch.uint8)\n",
    "        score += torch.sum(SCORE_TEMPLATE*mask)\n",
    "    return score/n_sample\n"
   ]
  },
  {
   "cell_type": "markdown",
   "id": "3578f623-30c3-42f6-ab0a-749bf0cd374f",
   "metadata": {},
   "source": [
    "### Learnerを作成"
   ]
  },
  {
   "cell_type": "code",
   "execution_count": 14,
   "id": "f677ac3f-f139-4f21-ac6d-42b00f5de4a2",
   "metadata": {},
   "outputs": [],
   "source": [
    "def make_learn(cbs:list=[]):\n",
    "    model = Net()\n",
    "    learn = Learner(dls, model=model,\n",
    "                    splitter=splitter,           \n",
    "                    loss_func=F.cross_entropy,   \n",
    "                    metrics=[accuracy, map10],\n",
    "                    cbs=[ShowGraphCallback()]+cbs\n",
    "    ).to_fp16()\n",
    "    return learn\n"
   ]
  },
  {
   "attachments": {
    "65a6175f-cdd9-4a0a-a2cb-5d6625800237.png": {
     "image/png": "[encoded data removed]"
    }
   },
   "cell_type": "markdown",
   "id": "d71b4e85-87fc-4953-ba84-c6892ad417a4",
   "metadata": {},
   "source": [
    "※備考\n",
    "\n",
    "- [ShowGraphCallback()](https://docs.fast.ai/callback.progress.html#ShowGraphCallback) : 学習中にtrain/validのロスをグラフ表示\n",
    "![image.png](attachment:65a6175f-cdd9-4a0a-a2cb-5d6625800237.png)\n",
    "\n",
    "- `.to_fp16()` : Mixed Precisionを使用"
   ]
  },
  {
   "cell_type": "markdown",
   "id": "f8dd7436-39d7-49d5-bf47-dc280015624a",
   "metadata": {},
   "source": [
    "GPUメモリ使用量の確認"
   ]
  },
  {
   "cell_type": "code",
   "execution_count": 15,
   "id": "8545b659-1908-4141-86f5-cae0f0122266",
   "metadata": {},
   "outputs": [
    {
     "data": {
      "text/plain": [
       "'0.00259GB'"
      ]
     },
     "execution_count": 15,
     "metadata": {},
     "output_type": "execute_result"
    }
   ],
   "source": [
    "f'{torch.cuda.max_memory_allocated()*1e-9:.3g}GB'"
   ]
  },
  {
   "cell_type": "code",
   "execution_count": null,
   "id": "46a563ab-64d9-4c7e-aaa7-087ee69da5ca",
   "metadata": {},
   "outputs": [],
   "source": []
  },
  {
   "cell_type": "markdown",
   "id": "eff06238-2c1a-43d0-b0b7-364b575f3386",
   "metadata": {},
   "source": [
    "# 累積勾配なしの場合"
   ]
  },
  {
   "cell_type": "code",
   "execution_count": 16,
   "id": "3cba3ef9-2b84-48d9-8daa-0839b8b53cbb",
   "metadata": {},
   "outputs": [],
   "source": [
    "learn = make_learn()\n",
    "learn.freeze()\n",
    "lr=1e-2  # 仮の学習率"
   ]
  },
  {
   "cell_type": "code",
   "execution_count": 17,
   "id": "d6abb4d3-573e-41f1-9536-a93a93e2ddc6",
   "metadata": {
    "scrolled": true,
    "tags": []
   },
   "outputs": [
    {
     "data": {
      "text/html": [
       "\n",
       "<style>\n",
       "    /* Turns off some styling */\n",
       "    progress {\n",
       "        /* gets rid of default border in Firefox and Opera. */\n",
       "        border: none;\n",
       "        /* Needs to be in here for Safari polyfill so background images work as expected. */\n",
       "        background-size: auto;\n",
       "    }\n",
       "    .progress-bar-interrupted, .progress-bar-interrupted::-webkit-progress-bar {\n",
       "        background: #F44336;\n",
       "    }\n",
       "</style>\n"
      ],
      "text/plain": [
       "<IPython.core.display.HTML object>"
      ]
     },
     "metadata": {},
     "output_type": "display_data"
    },
    {
     "data": {
      "text/html": [],
      "text/plain": [
       "<IPython.core.display.HTML object>"
      ]
     },
     "metadata": {},
     "output_type": "display_data"
    },
    {
     "data": {
      "image/png": "[encoded data removed]",
      "text/plain": [
       "<Figure size 432x288 with 1 Axes>"
      ]
     },
     "metadata": {
      "needs_background": "light"
     },
     "output_type": "display_data"
    }
   ],
   "source": [
    "lrs = learn.lr_find(suggest_funcs=(minimum, steep, valley, slide))"
   ]
  },
  {
   "cell_type": "code",
   "execution_count": 18,
   "id": "693918b7-9efe-4dbb-b199-0be78de7beb4",
   "metadata": {},
   "outputs": [
    {
     "data": {
      "text/plain": [
       "(0.019054606556892395,\n",
       " SuggestedLRs(minimum=0.010000000149011612, steep=0.019054606556892395, valley=0.0003981071640737355, slide=0.0030199517495930195))"
      ]
     },
     "execution_count": 18,
     "metadata": {},
     "output_type": "execute_result"
    }
   ],
   "source": [
    "lr = max(lrs); lr, lrs"
   ]
  },
  {
   "cell_type": "code",
   "execution_count": 19,
   "id": "41451b6b-af95-41b2-a618-74ae05952144",
   "metadata": {},
   "outputs": [
    {
     "data": {
      "text/html": [
       "\n",
       "<style>\n",
       "    /* Turns off some styling */\n",
       "    progress {\n",
       "        /* gets rid of default border in Firefox and Opera. */\n",
       "        border: none;\n",
       "        /* Needs to be in here for Safari polyfill so background images work as expected. */\n",
       "        background-size: auto;\n",
       "    }\n",
       "    .progress-bar-interrupted, .progress-bar-interrupted::-webkit-progress-bar {\n",
       "        background: #F44336;\n",
       "    }\n",
       "</style>\n"
      ],
      "text/plain": [
       "<IPython.core.display.HTML object>"
      ]
     },
     "metadata": {},
     "output_type": "display_data"
    },
    {
     "data": {
      "text/html": [
       "<table border=\"1\" class=\"dataframe\">\n",
       "  <thead>\n",
       "    <tr style=\"text-align: left;\">\n",
       "      <th>epoch</th>\n",
       "      <th>train_loss</th>\n",
       "      <th>valid_loss</th>\n",
       "      <th>accuracy</th>\n",
       "      <th>map10</th>\n",
       "      <th>time</th>\n",
       "    </tr>\n",
       "  </thead>\n",
       "  <tbody>\n",
       "    <tr>\n",
       "      <td>0</td>\n",
       "      <td>0.905246</td>\n",
       "      <td>0.450905</td>\n",
       "      <td>0.847091</td>\n",
       "      <td>0.909345</td>\n",
       "      <td>00:21</td>\n",
       "    </tr>\n",
       "    <tr>\n",
       "      <td>1</td>\n",
       "      <td>0.993336</td>\n",
       "      <td>1.845038</td>\n",
       "      <td>0.488498</td>\n",
       "      <td>0.643688</td>\n",
       "      <td>00:25</td>\n",
       "    </tr>\n",
       "    <tr>\n",
       "      <td>2</td>\n",
       "      <td>0.986548</td>\n",
       "      <td>1.408815</td>\n",
       "      <td>0.609608</td>\n",
       "      <td>0.737934</td>\n",
       "      <td>00:31</td>\n",
       "    </tr>\n",
       "    <tr>\n",
       "      <td>3</td>\n",
       "      <td>0.749186</td>\n",
       "      <td>0.709016</td>\n",
       "      <td>0.769959</td>\n",
       "      <td>0.860062</td>\n",
       "      <td>00:31</td>\n",
       "    </tr>\n",
       "    <tr>\n",
       "      <td>4</td>\n",
       "      <td>0.629156</td>\n",
       "      <td>0.700822</td>\n",
       "      <td>0.778078</td>\n",
       "      <td>0.865690</td>\n",
       "      <td>00:31</td>\n",
       "    </tr>\n",
       "    <tr>\n",
       "      <td>5</td>\n",
       "      <td>0.532126</td>\n",
       "      <td>0.393990</td>\n",
       "      <td>0.867388</td>\n",
       "      <td>0.922710</td>\n",
       "      <td>00:21</td>\n",
       "    </tr>\n",
       "    <tr>\n",
       "      <td>6</td>\n",
       "      <td>0.425365</td>\n",
       "      <td>0.380137</td>\n",
       "      <td>0.870771</td>\n",
       "      <td>0.922900</td>\n",
       "      <td>00:19</td>\n",
       "    </tr>\n",
       "    <tr>\n",
       "      <td>7</td>\n",
       "      <td>0.334642</td>\n",
       "      <td>0.315200</td>\n",
       "      <td>0.895805</td>\n",
       "      <td>0.938672</td>\n",
       "      <td>00:19</td>\n",
       "    </tr>\n",
       "    <tr>\n",
       "      <td>8</td>\n",
       "      <td>0.256339</td>\n",
       "      <td>0.296191</td>\n",
       "      <td>0.895805</td>\n",
       "      <td>0.939152</td>\n",
       "      <td>00:20</td>\n",
       "    </tr>\n",
       "    <tr>\n",
       "      <td>9</td>\n",
       "      <td>0.229112</td>\n",
       "      <td>0.297574</td>\n",
       "      <td>0.899865</td>\n",
       "      <td>0.941234</td>\n",
       "      <td>00:20</td>\n",
       "    </tr>\n",
       "  </tbody>\n",
       "</table>"
      ],
      "text/plain": [
       "<IPython.core.display.HTML object>"
      ]
     },
     "metadata": {},
     "output_type": "display_data"
    },
    {
     "data": {
      "image/png": "[encoded data removed]",
      "text/plain": [
       "<Figure size 432x288 with 1 Axes>"
      ]
     },
     "metadata": {},
     "output_type": "display_data"
    }
   ],
   "source": [
    "learn.fit_one_cycle(10, lr_max=lr)"
   ]
  },
  {
   "cell_type": "markdown",
   "id": "7508a6b2-855f-4f16-895d-eb5277fe6020",
   "metadata": {},
   "source": [
    "結果のうち、Accuracyだけ保存しておく"
   ]
  },
  {
   "cell_type": "code",
   "execution_count": 20,
   "id": "08cd7f79-ca3d-4fa1-b935-6a78e0c25f07",
   "metadata": {},
   "outputs": [
    {
     "data": {
      "text/plain": [
       "[(#4) [0.9052463173866272,0.4509047269821167,0.8470906615257263,0.9093450307846069],\n",
       " (#4) [0.9933357238769531,1.8450379371643066,0.4884979724884033,0.6436883807182312],\n",
       " (#4) [0.9865480661392212,1.4088146686553955,0.6096075773239136,0.7379338145256042],\n",
       " (#4) [0.7491856813430786,0.7090158462524414,0.7699593901634216,0.8600615859031677],\n",
       " (#4) [0.629155695438385,0.700822114944458,0.7780784964561462,0.8656898140907288],\n",
       " (#4) [0.5321260690689087,0.39399027824401855,0.8673883676528931,0.9227099418640137],\n",
       " (#4) [0.42536506056785583,0.38013726472854614,0.8707712888717651,0.9229003190994263],\n",
       " (#4) [0.3346416652202606,0.3151996433734894,0.8958051204681396,0.9386722445487976],\n",
       " (#4) [0.25633928179740906,0.2961905896663666,0.8958051204681396,0.9391517639160156],\n",
       " (#4) [0.229111909866333,0.29757392406463623,0.899864673614502,0.9412341117858887]]"
      ]
     },
     "execution_count": 20,
     "metadata": {},
     "output_type": "execute_result"
    }
   ],
   "source": [
    "learn.recorder.values"
   ]
  },
  {
   "cell_type": "code",
   "execution_count": 21,
   "id": "e2c55f7c-6c2a-488b-ac32-bf1c1ac7f6d7",
   "metadata": {},
   "outputs": [],
   "source": [
    "acc = {}"
   ]
  },
  {
   "cell_type": "code",
   "execution_count": 22,
   "id": "74628fab-6627-49aa-ab34-648428dd418c",
   "metadata": {},
   "outputs": [],
   "source": [
    "acc['bs64'] = [x[2] for x in learn.recorder.values]"
   ]
  },
  {
   "cell_type": "code",
   "execution_count": 23,
   "id": "d8be1650-e4db-429d-ac0c-751fde0fe352",
   "metadata": {},
   "outputs": [
    {
     "data": {
      "text/plain": [
       "{'bs64': [0.8470906615257263,\n",
       "  0.4884979724884033,\n",
       "  0.6096075773239136,\n",
       "  0.7699593901634216,\n",
       "  0.7780784964561462,\n",
       "  0.8673883676528931,\n",
       "  0.8707712888717651,\n",
       "  0.8958051204681396,\n",
       "  0.8958051204681396,\n",
       "  0.899864673614502]}"
      ]
     },
     "execution_count": 23,
     "metadata": {},
     "output_type": "execute_result"
    }
   ],
   "source": [
    "acc"
   ]
  },
  {
   "cell_type": "code",
   "execution_count": null,
   "id": "ccd71ecc-8fa9-4176-bb01-66be2f19cfa5",
   "metadata": {},
   "outputs": [],
   "source": []
  },
  {
   "cell_type": "markdown",
   "id": "4e6363c2-c7a8-445f-bf47-2f073e9a3a09",
   "metadata": {},
   "source": [
    "# 累積勾配ありの場合"
   ]
  },
  {
   "cell_type": "markdown",
   "id": "903ffe47-a159-473d-a04f-076f263eb34f",
   "metadata": {},
   "source": [
    "同じ学習率で、累積勾配ありで計算"
   ]
  },
  {
   "cell_type": "code",
   "execution_count": 33,
   "id": "79c27d33-058c-4f84-8cdd-7402d3b6e8b8",
   "metadata": {},
   "outputs": [],
   "source": [
    "learn = make_learn(cbs=[GradientAccumulation(n_acc=bs_update)])\n",
    "learn.freeze()"
   ]
  },
  {
   "cell_type": "markdown",
   "id": "9f8baf1d-a683-4dcb-86ed-875667f86c5c",
   "metadata": {},
   "source": [
    "累積勾配ありでlr_find　... 計算失敗してる？"
   ]
  },
  {
   "cell_type": "code",
   "execution_count": 34,
   "id": "c65d4f52-171d-4908-9504-f6bec34f9079",
   "metadata": {
    "scrolled": true,
    "tags": []
   },
   "outputs": [
    {
     "data": {
      "text/html": [
       "\n",
       "<style>\n",
       "    /* Turns off some styling */\n",
       "    progress {\n",
       "        /* gets rid of default border in Firefox and Opera. */\n",
       "        border: none;\n",
       "        /* Needs to be in here for Safari polyfill so background images work as expected. */\n",
       "        background-size: auto;\n",
       "    }\n",
       "    .progress-bar-interrupted, .progress-bar-interrupted::-webkit-progress-bar {\n",
       "        background: #F44336;\n",
       "    }\n",
       "</style>\n"
      ],
      "text/plain": [
       "<IPython.core.display.HTML object>"
      ]
     },
     "metadata": {},
     "output_type": "display_data"
    },
    {
     "data": {
      "text/html": [],
      "text/plain": [
       "<IPython.core.display.HTML object>"
      ]
     },
     "metadata": {},
     "output_type": "display_data"
    },
    {
     "data": {
      "image/png": "[encoded data removed]",
      "text/plain": [
       "<Figure size 432x288 with 1 Axes>"
      ]
     },
     "metadata": {
      "needs_background": "light"
     },
     "output_type": "display_data"
    }
   ],
   "source": [
    "lrs = learn.lr_find(suggest_funcs=(minimum, steep, valley, slide))"
   ]
  },
  {
   "cell_type": "code",
   "execution_count": 27,
   "id": "9b46bd67-1f4c-418d-babf-f3b0a728753e",
   "metadata": {},
   "outputs": [
    {
     "data": {
      "text/plain": [
       "(0.02290867641568184,\n",
       " SuggestedLRs(minimum=0.010000000149011612, steep=0.02290867641568184, valley=0.0020892962347716093, slide=0.004365158267319202))"
      ]
     },
     "execution_count": 27,
     "metadata": {},
     "output_type": "execute_result"
    }
   ],
   "source": [
    "lr = max(lrs); lr, lrs"
   ]
  },
  {
   "cell_type": "code",
   "execution_count": 28,
   "id": "12b752f0-323c-49e6-8851-169631dcc808",
   "metadata": {},
   "outputs": [
    {
     "data": {
      "text/html": [
       "\n",
       "<style>\n",
       "    /* Turns off some styling */\n",
       "    progress {\n",
       "        /* gets rid of default border in Firefox and Opera. */\n",
       "        border: none;\n",
       "        /* Needs to be in here for Safari polyfill so background images work as expected. */\n",
       "        background-size: auto;\n",
       "    }\n",
       "    .progress-bar-interrupted, .progress-bar-interrupted::-webkit-progress-bar {\n",
       "        background: #F44336;\n",
       "    }\n",
       "</style>\n"
      ],
      "text/plain": [
       "<IPython.core.display.HTML object>"
      ]
     },
     "metadata": {},
     "output_type": "display_data"
    },
    {
     "data": {
      "text/html": [
       "<table border=\"1\" class=\"dataframe\">\n",
       "  <thead>\n",
       "    <tr style=\"text-align: left;\">\n",
       "      <th>epoch</th>\n",
       "      <th>train_loss</th>\n",
       "      <th>valid_loss</th>\n",
       "      <th>accuracy</th>\n",
       "      <th>map10</th>\n",
       "      <th>time</th>\n",
       "    </tr>\n",
       "  </thead>\n",
       "  <tbody>\n",
       "    <tr>\n",
       "      <td>0</td>\n",
       "      <td>2.043479</td>\n",
       "      <td>0.976039</td>\n",
       "      <td>0.830176</td>\n",
       "      <td>0.896414</td>\n",
       "      <td>00:19</td>\n",
       "    </tr>\n",
       "    <tr>\n",
       "      <td>1</td>\n",
       "      <td>0.832854</td>\n",
       "      <td>0.400275</td>\n",
       "      <td>0.875507</td>\n",
       "      <td>0.925448</td>\n",
       "      <td>00:19</td>\n",
       "    </tr>\n",
       "    <tr>\n",
       "      <td>2</td>\n",
       "      <td>0.472426</td>\n",
       "      <td>0.368026</td>\n",
       "      <td>0.878214</td>\n",
       "      <td>0.928345</td>\n",
       "      <td>00:19</td>\n",
       "    </tr>\n",
       "    <tr>\n",
       "      <td>3</td>\n",
       "      <td>0.387759</td>\n",
       "      <td>0.384239</td>\n",
       "      <td>0.878890</td>\n",
       "      <td>0.928347</td>\n",
       "      <td>00:19</td>\n",
       "    </tr>\n",
       "    <tr>\n",
       "      <td>4</td>\n",
       "      <td>0.349319</td>\n",
       "      <td>0.330284</td>\n",
       "      <td>0.899865</td>\n",
       "      <td>0.942441</td>\n",
       "      <td>00:19</td>\n",
       "    </tr>\n",
       "    <tr>\n",
       "      <td>5</td>\n",
       "      <td>0.325585</td>\n",
       "      <td>0.327717</td>\n",
       "      <td>0.895129</td>\n",
       "      <td>0.939628</td>\n",
       "      <td>00:19</td>\n",
       "    </tr>\n",
       "    <tr>\n",
       "      <td>6</td>\n",
       "      <td>0.294805</td>\n",
       "      <td>0.340541</td>\n",
       "      <td>0.887686</td>\n",
       "      <td>0.935839</td>\n",
       "      <td>00:19</td>\n",
       "    </tr>\n",
       "    <tr>\n",
       "      <td>7</td>\n",
       "      <td>0.262151</td>\n",
       "      <td>0.325038</td>\n",
       "      <td>0.895129</td>\n",
       "      <td>0.937631</td>\n",
       "      <td>00:19</td>\n",
       "    </tr>\n",
       "    <tr>\n",
       "      <td>8</td>\n",
       "      <td>0.225308</td>\n",
       "      <td>0.305263</td>\n",
       "      <td>0.901894</td>\n",
       "      <td>0.941743</td>\n",
       "      <td>00:19</td>\n",
       "    </tr>\n",
       "    <tr>\n",
       "      <td>9</td>\n",
       "      <td>0.205135</td>\n",
       "      <td>0.302533</td>\n",
       "      <td>0.902571</td>\n",
       "      <td>0.942552</td>\n",
       "      <td>00:19</td>\n",
       "    </tr>\n",
       "  </tbody>\n",
       "</table>"
      ],
      "text/plain": [
       "<IPython.core.display.HTML object>"
      ]
     },
     "metadata": {},
     "output_type": "display_data"
    },
    {
     "data": {
      "image/png": "[encoded data removed]",
      "text/plain": [
       "<Figure size 432x288 with 1 Axes>"
      ]
     },
     "metadata": {},
     "output_type": "display_data"
    }
   ],
   "source": [
    "learn.fit_one_cycle(10, lr_max=lr)"
   ]
  },
  {
   "cell_type": "code",
   "execution_count": 29,
   "id": "f21b44d1-eb38-43d7-ae30-a51822a46f90",
   "metadata": {},
   "outputs": [],
   "source": [
    "acc['bs1024'] = [x[2] for x in learn.recorder.values]"
   ]
  },
  {
   "cell_type": "code",
   "execution_count": 30,
   "id": "c7c709ec-1196-48a6-906a-76e39ef81b9f",
   "metadata": {},
   "outputs": [],
   "source": [
    "df = pd.DataFrame(acc)"
   ]
  },
  {
   "cell_type": "markdown",
   "id": "7ebef8e2-a6de-4865-9dc1-43e7173b6df3",
   "metadata": {},
   "source": [
    "bs_updateによる学習安定性の比較"
   ]
  },
  {
   "cell_type": "code",
   "execution_count": 31,
   "id": "3c1b7577-d488-4247-bc7a-162204aed1d2",
   "metadata": {},
   "outputs": [
    {
     "data": {
      "text/plain": [
       "<AxesSubplot:xlabel='n_epoch', ylabel='acc'>"
      ]
     },
     "execution_count": 31,
     "metadata": {},
     "output_type": "execute_result"
    },
    {
     "data": {
      "image/png": "[encoded data removed]",
      "text/plain": [
       "<Figure size 432x288 with 1 Axes>"
      ]
     },
     "metadata": {
      "needs_background": "light"
     },
     "output_type": "display_data"
    }
   ],
   "source": [
    "df.plot(xlabel='n_epoch', ylabel='acc')"
   ]
  },
  {
   "cell_type": "code",
   "execution_count": null,
   "id": "0875abe0-8e08-4e52-aebd-0ff1a18b9cc2",
   "metadata": {},
   "outputs": [],
   "source": []
  },
  {
   "cell_type": "code",
   "execution_count": null,
   "id": "1436db9e-6a60-4f76-a524-630a360cf76d",
   "metadata": {},
   "outputs": [],
   "source": []
  },
  {
   "cell_type": "code",
   "execution_count": null,
   "id": "2b63272e-b77a-422a-a4ee-f61ae6884cf0",
   "metadata": {},
   "outputs": [],
   "source": []
  },
  {
   "cell_type": "code",
   "execution_count": null,
   "id": "016d645d-f8a3-45f8-ba71-9709df209ee4",
   "metadata": {},
   "outputs": [],
   "source": []
  },
  {
   "cell_type": "code",
   "execution_count": null,
   "id": "d9aecd40-990c-421a-8d97-441bbbbf3c68",
   "metadata": {},
   "outputs": [],
   "source": []
  },
  {
   "cell_type": "code",
   "execution_count": null,
   "id": "8da5d942-e852-494f-89e7-4f18d313a190",
   "metadata": {},
   "outputs": [],
   "source": []
  },
  {
   "cell_type": "code",
   "execution_count": null,
   "id": "b6641a67-d710-4376-88ec-d41b64c57187",
   "metadata": {},
   "outputs": [],
   "source": []
  }
 ],
 "metadata": {
  "kernelspec": {
   "display_name": "Python 3 (ipykernel)",
   "language": "python",
   "name": "python3"
  },
  "language_info": {
   "codemirror_mode": {
    "name": "ipython",
    "version": 3
   },
   "file_extension": ".py",
   "mimetype": "text/x-python",
   "name": "python",
   "nbconvert_exporter": "python",
   "pygments_lexer": "ipython3",
   "version": "3.9.10"
  }
 },
 "nbformat": 4,
 "nbformat_minor": 5
}
